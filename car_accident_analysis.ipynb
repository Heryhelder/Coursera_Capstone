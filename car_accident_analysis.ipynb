{
 "cells": [
  {
   "cell_type": "markdown",
   "metadata": {},
   "source": [
    "# "
   ]
  },
  {
   "cell_type": "markdown",
   "metadata": {},
   "source": [
    "# Data Science Capstone Project"
   ]
  },
  {
   "cell_type": "markdown",
   "metadata": {},
   "source": [
    "<p>In this project we will analyze data about car accidents and will try to predict the severity of a new collision, if it's fatal or not</p>"
   ]
  },
  {
   "cell_type": "markdown",
   "metadata": {},
   "source": [
    "### Importing libraries"
   ]
  },
  {
   "cell_type": "code",
   "execution_count": 35,
   "metadata": {},
   "outputs": [],
   "source": [
    "# Pandas to handle dataset\n",
    "import pandas as pd \n",
    "# Numpy to handle and operate through arrays\n",
    "import numpy as np\n",
    "# Matplotlib for data visualization\n",
    "import matplotlib.pyplot as plt\n",
    "%matplotlib inline"
   ]
  },
  {
   "cell_type": "code",
   "execution_count": 36,
   "metadata": {
    "tags": []
   },
   "outputs": [
    {
     "output_type": "stream",
     "name": "stdout",
     "text": "Hello Capstone Project Course!\n"
    }
   ],
   "source": [
    "print(\"Hello Capstone Project Course!\")"
   ]
  },
  {
   "cell_type": "code",
   "execution_count": 37,
   "metadata": {},
   "outputs": [],
   "source": [
    "df_collisions = pd.read_csv(\"Data-Collisions.csv\")"
   ]
  },
  {
   "cell_type": "markdown",
   "metadata": {
    "tags": []
   },
   "source": [
    " ### Data understanding"
   ]
  },
  {
   "cell_type": "code",
   "execution_count": 38,
   "metadata": {},
   "outputs": [],
   "source": [
    "# Useless columns: 'OBJECTID', 'X', 'Y', 'REPORTNO', 'INCKEY', 'COLDETKEY', 'INTKEY', 'LOCATION', 'EXCEPTRSNCODE', 'EXCEPTRSNDESC', 'SEVERITYCODE.1', 'SEVERITYDESC', 'INCDATE', 'JUNCTIONTYPE', 'SDOT_COLCODE', 'SDOT_COLDESC', 'SDOTCOLNUM', 'ST_COLCODE', 'ST_COLDESC', 'SEGLANEKEY', 'CROSSWALKKEY'"
   ]
  },
  {
   "cell_type": "code",
   "execution_count": 39,
   "metadata": {
    "tags": []
   },
   "outputs": [
    {
     "output_type": "stream",
     "name": "stdout",
     "text": "Index(['SEVERITYCODE', 'ADDRTYPE', 'COLLISIONTYPE', 'PERSONCOUNT', 'PEDCOUNT',\n       'PEDCYLCOUNT', 'VEHCOUNT', 'INATTENTIONIND', 'UNDERINFL', 'WEATHER',\n       'ROADCOND', 'LIGHTCOND', 'PEDROWNOTGRNT', 'SPEEDING', 'HITPARKEDCAR'],\n      dtype='object')\n"
    }
   ],
   "source": [
    "useless_columns = ['OBJECTID', 'X', 'Y', 'REPORTNO', 'STATUS', 'INCDTTM', 'INCKEY', 'COLDETKEY', 'INTKEY', 'LOCATION', 'EXCEPTRSNCODE', 'EXCEPTRSNDESC', 'SEVERITYCODE.1', 'SEVERITYDESC', 'INCDATE', 'JUNCTIONTYPE', 'SDOT_COLCODE', 'SDOT_COLDESC', 'SDOTCOLNUM', 'ST_COLCODE', 'ST_COLDESC', 'SEGLANEKEY', 'CROSSWALKKEY']\n",
    "\n",
    "df_collisions.drop(columns=useless_columns, inplace=True)\n",
    "\n",
    "print(df_collisions.columns)"
   ]
  },
  {
   "cell_type": "code",
   "execution_count": 40,
   "metadata": {},
   "outputs": [
    {
     "output_type": "execute_result",
     "data": {
      "text/plain": "   SEVERITYCODE      ADDRTYPE COLLISIONTYPE  PERSONCOUNT  PEDCOUNT  \\\n0             2  Intersection        Angles            2         0   \n1             1         Block     Sideswipe            2         0   \n2             1         Block    Parked Car            4         0   \n3             1         Block         Other            3         0   \n4             2  Intersection        Angles            2         0   \n\n   PEDCYLCOUNT  VEHCOUNT INATTENTIONIND UNDERINFL   WEATHER ROADCOND  \\\n0            0         2            NaN         N  Overcast      Wet   \n1            0         2            NaN         0   Raining      Wet   \n2            0         3            NaN         0  Overcast      Dry   \n3            0         3            NaN         N     Clear      Dry   \n4            0         2            NaN         0   Raining      Wet   \n\n                 LIGHTCOND PEDROWNOTGRNT SPEEDING HITPARKEDCAR  \n0                 Daylight           NaN      NaN            N  \n1  Dark - Street Lights On           NaN      NaN            N  \n2                 Daylight           NaN      NaN            N  \n3                 Daylight           NaN      NaN            N  \n4                 Daylight           NaN      NaN            N  ",
      "text/html": "<div>\n<style scoped>\n    .dataframe tbody tr th:only-of-type {\n        vertical-align: middle;\n    }\n\n    .dataframe tbody tr th {\n        vertical-align: top;\n    }\n\n    .dataframe thead th {\n        text-align: right;\n    }\n</style>\n<table border=\"1\" class=\"dataframe\">\n  <thead>\n    <tr style=\"text-align: right;\">\n      <th></th>\n      <th>SEVERITYCODE</th>\n      <th>ADDRTYPE</th>\n      <th>COLLISIONTYPE</th>\n      <th>PERSONCOUNT</th>\n      <th>PEDCOUNT</th>\n      <th>PEDCYLCOUNT</th>\n      <th>VEHCOUNT</th>\n      <th>INATTENTIONIND</th>\n      <th>UNDERINFL</th>\n      <th>WEATHER</th>\n      <th>ROADCOND</th>\n      <th>LIGHTCOND</th>\n      <th>PEDROWNOTGRNT</th>\n      <th>SPEEDING</th>\n      <th>HITPARKEDCAR</th>\n    </tr>\n  </thead>\n  <tbody>\n    <tr>\n      <th>0</th>\n      <td>2</td>\n      <td>Intersection</td>\n      <td>Angles</td>\n      <td>2</td>\n      <td>0</td>\n      <td>0</td>\n      <td>2</td>\n      <td>NaN</td>\n      <td>N</td>\n      <td>Overcast</td>\n      <td>Wet</td>\n      <td>Daylight</td>\n      <td>NaN</td>\n      <td>NaN</td>\n      <td>N</td>\n    </tr>\n    <tr>\n      <th>1</th>\n      <td>1</td>\n      <td>Block</td>\n      <td>Sideswipe</td>\n      <td>2</td>\n      <td>0</td>\n      <td>0</td>\n      <td>2</td>\n      <td>NaN</td>\n      <td>0</td>\n      <td>Raining</td>\n      <td>Wet</td>\n      <td>Dark - Street Lights On</td>\n      <td>NaN</td>\n      <td>NaN</td>\n      <td>N</td>\n    </tr>\n    <tr>\n      <th>2</th>\n      <td>1</td>\n      <td>Block</td>\n      <td>Parked Car</td>\n      <td>4</td>\n      <td>0</td>\n      <td>0</td>\n      <td>3</td>\n      <td>NaN</td>\n      <td>0</td>\n      <td>Overcast</td>\n      <td>Dry</td>\n      <td>Daylight</td>\n      <td>NaN</td>\n      <td>NaN</td>\n      <td>N</td>\n    </tr>\n    <tr>\n      <th>3</th>\n      <td>1</td>\n      <td>Block</td>\n      <td>Other</td>\n      <td>3</td>\n      <td>0</td>\n      <td>0</td>\n      <td>3</td>\n      <td>NaN</td>\n      <td>N</td>\n      <td>Clear</td>\n      <td>Dry</td>\n      <td>Daylight</td>\n      <td>NaN</td>\n      <td>NaN</td>\n      <td>N</td>\n    </tr>\n    <tr>\n      <th>4</th>\n      <td>2</td>\n      <td>Intersection</td>\n      <td>Angles</td>\n      <td>2</td>\n      <td>0</td>\n      <td>0</td>\n      <td>2</td>\n      <td>NaN</td>\n      <td>0</td>\n      <td>Raining</td>\n      <td>Wet</td>\n      <td>Daylight</td>\n      <td>NaN</td>\n      <td>NaN</td>\n      <td>N</td>\n    </tr>\n  </tbody>\n</table>\n</div>"
     },
     "metadata": {},
     "execution_count": 40
    }
   ],
   "source": [
    "df_collisions.head()"
   ]
  },
  {
   "cell_type": "code",
   "execution_count": 41,
   "metadata": {
    "tags": []
   },
   "outputs": [
    {
     "output_type": "stream",
     "name": "stdout",
     "text": "<class 'pandas.core.frame.DataFrame'>\nRangeIndex: 194673 entries, 0 to 194672\nData columns (total 15 columns):\n #   Column          Non-Null Count   Dtype \n---  ------          --------------   ----- \n 0   SEVERITYCODE    194673 non-null  int64 \n 1   ADDRTYPE        192747 non-null  object\n 2   COLLISIONTYPE   189769 non-null  object\n 3   PERSONCOUNT     194673 non-null  int64 \n 4   PEDCOUNT        194673 non-null  int64 \n 5   PEDCYLCOUNT     194673 non-null  int64 \n 6   VEHCOUNT        194673 non-null  int64 \n 7   INATTENTIONIND  29805 non-null   object\n 8   UNDERINFL       189789 non-null  object\n 9   WEATHER         189592 non-null  object\n 10  ROADCOND        189661 non-null  object\n 11  LIGHTCOND       189503 non-null  object\n 12  PEDROWNOTGRNT   4667 non-null    object\n 13  SPEEDING        9333 non-null    object\n 14  HITPARKEDCAR    194673 non-null  object\ndtypes: int64(5), object(10)\nmemory usage: 22.3+ MB\n"
    }
   ],
   "source": [
    "df_collisions.info()"
   ]
  },
  {
   "cell_type": "code",
   "execution_count": 42,
   "metadata": {},
   "outputs": [
    {
     "output_type": "execute_result",
     "data": {
      "text/plain": "SEVERITYCODE           0\nADDRTYPE            1926\nCOLLISIONTYPE       4904\nPERSONCOUNT            0\nPEDCOUNT               0\nPEDCYLCOUNT            0\nVEHCOUNT               0\nINATTENTIONIND    164868\nUNDERINFL           4884\nWEATHER             5081\nROADCOND            5012\nLIGHTCOND           5170\nPEDROWNOTGRNT     190006\nSPEEDING          185340\nHITPARKEDCAR           0\ndtype: int64"
     },
     "metadata": {},
     "execution_count": 42
    }
   ],
   "source": [
    "df_collisions.isnull().sum()"
   ]
  },
  {
   "cell_type": "code",
   "execution_count": 43,
   "metadata": {
    "tags": []
   },
   "outputs": [
    {
     "output_type": "stream",
     "name": "stdout",
     "text": "Inital total columns: 15\nTotal columns after dropping: 12\n"
    }
   ],
   "source": [
    "# Total observations: 194673\n",
    "# Lets drop columns that have half of this value or more of missing values (97336+)\n",
    "print('Inital total columns: ' + str(np.asarray(df_collisions.columns).size))\n",
    "df_collisions.dropna(axis=1, thresh=97336, inplace=True)\n",
    "print('Total columns after dropping: ' + str(np.asarray(df_collisions.columns).size))"
   ]
  },
  {
   "cell_type": "code",
   "execution_count": 44,
   "metadata": {},
   "outputs": [
    {
     "output_type": "execute_result",
     "data": {
      "text/plain": "SEVERITYCODE        0\nADDRTYPE         1926\nCOLLISIONTYPE    4904\nPERSONCOUNT         0\nPEDCOUNT            0\nPEDCYLCOUNT         0\nVEHCOUNT            0\nUNDERINFL        4884\nWEATHER          5081\nROADCOND         5012\nLIGHTCOND        5170\nHITPARKEDCAR        0\ndtype: int64"
     },
     "metadata": {},
     "execution_count": 44
    }
   ],
   "source": [
    "df_collisions.isnull().sum()"
   ]
  },
  {
   "cell_type": "markdown",
   "metadata": {},
   "source": [
    "<p>Now lets handle object variables, and perform some data transformation so we can check for correlations</p>"
   ]
  },
  {
   "cell_type": "markdown",
   "metadata": {},
   "source": [
    "<p>We need to handle those missing values</p>"
   ]
  },
  {
   "cell_type": "code",
   "execution_count": 45,
   "metadata": {
    "tags": []
   },
   "outputs": [
    {
     "output_type": "execute_result",
     "data": {
      "text/plain": "       ADDRTYPE COLLISIONTYPE UNDERINFL   WEATHER ROADCOND  \\\n0  Intersection        Angles         N  Overcast      Wet   \n1         Block     Sideswipe         0   Raining      Wet   \n2         Block    Parked Car         0  Overcast      Dry   \n3         Block         Other         N     Clear      Dry   \n4  Intersection        Angles         0   Raining      Wet   \n\n                 LIGHTCOND  \n0                 Daylight  \n1  Dark - Street Lights On  \n2                 Daylight  \n3                 Daylight  \n4                 Daylight  ",
      "text/html": "<div>\n<style scoped>\n    .dataframe tbody tr th:only-of-type {\n        vertical-align: middle;\n    }\n\n    .dataframe tbody tr th {\n        vertical-align: top;\n    }\n\n    .dataframe thead th {\n        text-align: right;\n    }\n</style>\n<table border=\"1\" class=\"dataframe\">\n  <thead>\n    <tr style=\"text-align: right;\">\n      <th></th>\n      <th>ADDRTYPE</th>\n      <th>COLLISIONTYPE</th>\n      <th>UNDERINFL</th>\n      <th>WEATHER</th>\n      <th>ROADCOND</th>\n      <th>LIGHTCOND</th>\n    </tr>\n  </thead>\n  <tbody>\n    <tr>\n      <th>0</th>\n      <td>Intersection</td>\n      <td>Angles</td>\n      <td>N</td>\n      <td>Overcast</td>\n      <td>Wet</td>\n      <td>Daylight</td>\n    </tr>\n    <tr>\n      <th>1</th>\n      <td>Block</td>\n      <td>Sideswipe</td>\n      <td>0</td>\n      <td>Raining</td>\n      <td>Wet</td>\n      <td>Dark - Street Lights On</td>\n    </tr>\n    <tr>\n      <th>2</th>\n      <td>Block</td>\n      <td>Parked Car</td>\n      <td>0</td>\n      <td>Overcast</td>\n      <td>Dry</td>\n      <td>Daylight</td>\n    </tr>\n    <tr>\n      <th>3</th>\n      <td>Block</td>\n      <td>Other</td>\n      <td>N</td>\n      <td>Clear</td>\n      <td>Dry</td>\n      <td>Daylight</td>\n    </tr>\n    <tr>\n      <th>4</th>\n      <td>Intersection</td>\n      <td>Angles</td>\n      <td>0</td>\n      <td>Raining</td>\n      <td>Wet</td>\n      <td>Daylight</td>\n    </tr>\n  </tbody>\n</table>\n</div>"
     },
     "metadata": {},
     "execution_count": 45
    }
   ],
   "source": [
    "cols_with_missing_values = ['ADDRTYPE', 'COLLISIONTYPE', 'UNDERINFL', 'WEATHER', 'ROADCOND', 'LIGHTCOND']\n",
    "\n",
    "df_collisions[cols_with_missing_values].head()"
   ]
  },
  {
   "cell_type": "markdown",
   "metadata": {},
   "source": [
    "We can see that UNDERINFL has numeric and string values, so we need to handle it individually and carefully. Other columns has only string values."
   ]
  },
  {
   "cell_type": "code",
   "execution_count": 46,
   "metadata": {
    "tags": []
   },
   "outputs": [],
   "source": [
    "df_collisions['UNDERINFL'] = df_collisions['UNDERINFL'].map({'0': 'No', '1': 'Yes', 'N': 'No', 'Y': 'Yes'})"
   ]
  },
  {
   "cell_type": "code",
   "execution_count": 47,
   "metadata": {},
   "outputs": [],
   "source": [
    "df_collisions['ADDRTYPE'].fillna(df_collisions['ADDRTYPE'].mode, inplace=True)\n",
    "df_collisions['COLLISIONTYPE'].fillna(df_collisions['COLLISIONTYPE'].mode, inplace=True)\n",
    "df_collisions['UNDERINFL'].fillna(df_collisions['UNDERINFL'].mode, inplace=True)\n",
    "df_collisions['WEATHER'].fillna(df_collisions['WEATHER'].mode, inplace=True)\n",
    "df_collisions['ROADCOND'].fillna(df_collisions['ROADCOND'].mode, inplace=True)\n",
    "df_collisions['LIGHTCOND'].fillna(df_collisions['LIGHTCOND'].mode, inplace=True)"
   ]
  },
  {
   "cell_type": "code",
   "execution_count": 48,
   "metadata": {
    "tags": []
   },
   "outputs": [
    {
     "output_type": "execute_result",
     "data": {
      "text/plain": "SEVERITYCODE     0\nADDRTYPE         0\nCOLLISIONTYPE    0\nPERSONCOUNT      0\nPEDCOUNT         0\nPEDCYLCOUNT      0\nVEHCOUNT         0\nUNDERINFL        0\nWEATHER          0\nROADCOND         0\nLIGHTCOND        0\nHITPARKEDCAR     0\ndtype: int64"
     },
     "metadata": {},
     "execution_count": 48
    }
   ],
   "source": [
    "df_collisions.isnull().sum()"
   ]
  },
  {
   "cell_type": "code",
   "execution_count": 49,
   "metadata": {
    "tags": []
   },
   "outputs": [],
   "source": [
    "objetct_columns = ['ADDRTYPE', 'COLLISIONTYPE', 'UNDERINFL', 'WEATHER', 'ROADCOND', 'LIGHTCOND', 'HITPARKEDCAR']\n",
    "df_collisions = pd.get_dummies(df_collisions, prefix=['addrtype', 'collisiontype', 'underinfl', 'weather', 'roadcond', 'lightcond', 'hitparkedcar'], prefix_sep='_', columns=objetct_columns, drop_first=True)"
   ]
  },
  {
   "cell_type": "markdown",
   "metadata": {},
   "source": [
    "@todo<p>We need to handle INCDTTM and create 1 new column: the time</p>"
   ]
  },
  {
   "cell_type": "code",
   "execution_count": 50,
   "metadata": {
    "tags": []
   },
   "outputs": [
    {
     "output_type": "stream",
     "name": "stdout",
     "text": "(194673, 50)\n<class 'pandas.core.frame.DataFrame'>\nRangeIndex: 194673 entries, 0 to 194672\nData columns (total 50 columns):\n #   Column                              Non-Null Count   Dtype\n---  ------                              --------------   -----\n 0   SEVERITYCODE                        194673 non-null  int64\n 1   PERSONCOUNT                         194673 non-null  int64\n 2   PEDCOUNT                            194673 non-null  int64\n 3   PEDCYLCOUNT                         194673 non-null  int64\n 4   VEHCOUNT                            194673 non-null  int64\n 5   addrtype_Alley                      194673 non-null  uint8\n 6   addrtype_Block                      194673 non-null  uint8\n 7   addrtype_Intersection               194673 non-null  uint8\n 8   collisiontype_Angles                194673 non-null  uint8\n 9   collisiontype_Cycles                194673 non-null  uint8\n 10  collisiontype_Head On               194673 non-null  uint8\n 11  collisiontype_Left Turn             194673 non-null  uint8\n 12  collisiontype_Other                 194673 non-null  uint8\n 13  collisiontype_Parked Car            194673 non-null  uint8\n 14  collisiontype_Pedestrian            194673 non-null  uint8\n 15  collisiontype_Rear Ended            194673 non-null  uint8\n 16  collisiontype_Right Turn            194673 non-null  uint8\n 17  collisiontype_Sideswipe             194673 non-null  uint8\n 18  underinfl_No                        194673 non-null  uint8\n 19  underinfl_Yes                       194673 non-null  uint8\n 20  weather_Blowing Sand/Dirt           194673 non-null  uint8\n 21  weather_Clear                       194673 non-null  uint8\n 22  weather_Fog/Smog/Smoke              194673 non-null  uint8\n 23  weather_Other                       194673 non-null  uint8\n 24  weather_Overcast                    194673 non-null  uint8\n 25  weather_Partly Cloudy               194673 non-null  uint8\n 26  weather_Raining                     194673 non-null  uint8\n 27  weather_Severe Crosswind            194673 non-null  uint8\n 28  weather_Sleet/Hail/Freezing Rain    194673 non-null  uint8\n 29  weather_Snowing                     194673 non-null  uint8\n 30  weather_Unknown                     194673 non-null  uint8\n 31  roadcond_Dry                        194673 non-null  uint8\n 32  roadcond_Ice                        194673 non-null  uint8\n 33  roadcond_Oil                        194673 non-null  uint8\n 34  roadcond_Other                      194673 non-null  uint8\n 35  roadcond_Sand/Mud/Dirt              194673 non-null  uint8\n 36  roadcond_Snow/Slush                 194673 non-null  uint8\n 37  roadcond_Standing Water             194673 non-null  uint8\n 38  roadcond_Unknown                    194673 non-null  uint8\n 39  roadcond_Wet                        194673 non-null  uint8\n 40  lightcond_Dark - No Street Lights   194673 non-null  uint8\n 41  lightcond_Dark - Street Lights Off  194673 non-null  uint8\n 42  lightcond_Dark - Street Lights On   194673 non-null  uint8\n 43  lightcond_Dark - Unknown Lighting   194673 non-null  uint8\n 44  lightcond_Dawn                      194673 non-null  uint8\n 45  lightcond_Daylight                  194673 non-null  uint8\n 46  lightcond_Dusk                      194673 non-null  uint8\n 47  lightcond_Other                     194673 non-null  uint8\n 48  lightcond_Unknown                   194673 non-null  uint8\n 49  hitparkedcar_Y                      194673 non-null  uint8\ndtypes: int64(5), uint8(45)\nmemory usage: 15.8 MB\nNone\n"
    }
   ],
   "source": [
    "print(df_collisions.shape)\n",
    "print(df_collisions.info())"
   ]
  },
  {
   "cell_type": "code",
   "execution_count": 68,
   "metadata": {},
   "outputs": [],
   "source": [
    "from sklearn.neighbors import KNeighborsClassifier\n",
    "from sklearn.model_selection import train_test_split\n",
    "from sklearn.linear_model import LogisticRegression\n",
    "from sklearn.preprocessing import normalize"
   ]
  },
  {
   "cell_type": "code",
   "execution_count": 64,
   "metadata": {},
   "outputs": [
    {
     "output_type": "execute_result",
     "data": {
      "text/plain": "1    33439\n2    24749\nName: SEVERITYCODE, dtype: int64"
     },
     "metadata": {},
     "execution_count": 64
    }
   ],
   "source": [
    "# Dataset is imbalanced, so lets grab samples and balance that\n",
    "# df_collisions.SEVERITYCODE.value_counts()\n",
    "\n",
    "# df_collisions = df_collisions.sample(n=58188, weights='SEVERITYCODE')\n",
    "# df_collisions.SEVERITYCODE.value_counts()"
   ]
  },
  {
   "cell_type": "code",
   "execution_count": 69,
   "metadata": {},
   "outputs": [],
   "source": [
    "X = df_collisions.drop('SEVERITYCODE', axis=1)\n",
    "X = normalize(X)\n",
    "\n",
    "y = df_collisions[['SEVERITYCODE']]\n",
    "\n",
    "x_train, x_test, y_train, y_test = train_test_split(X, y, train_size=0.7)"
   ]
  },
  {
   "cell_type": "code",
   "execution_count": 70,
   "metadata": {
    "tags": []
   },
   "outputs": [
    {
     "output_type": "stream",
     "name": "stdout",
     "text": "0.7004639972503867\n"
    }
   ],
   "source": [
    "# ML models\n",
    "\n",
    "# Logistic regression\n",
    "lr_model = LogisticRegression(class_weight='SEVERITYCODE')\n",
    "lr_model.fit(x_train, y_train)\n",
    "print(lr_model.score(x_test, y_test))"
   ]
  }
 ],
 "metadata": {
  "kernelspec": {
   "display_name": "Python 3",
   "language": "python",
   "name": "python3"
  },
  "language_info": {
   "codemirror_mode": {
    "name": "ipython",
    "version": 3
   },
   "file_extension": ".py",
   "mimetype": "text/x-python",
   "name": "python",
   "nbconvert_exporter": "python",
   "pygments_lexer": "ipython3",
   "version": "3.8.5"
  }
 },
 "nbformat": 4,
 "nbformat_minor": 4
}