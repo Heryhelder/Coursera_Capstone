{
 "cells": [
  {
   "cell_type": "markdown",
   "metadata": {},
   "source": [
    "# "
   ]
  },
  {
   "cell_type": "markdown",
   "metadata": {},
   "source": [
    "# Data Science Capstone Project"
   ]
  },
  {
   "cell_type": "markdown",
   "metadata": {},
   "source": [
    "<p>In this project we will analyze data about car accidents and will try to predict the severity of a new collision, if it's fatal or not</p>"
   ]
  },
  {
   "cell_type": "markdown",
   "metadata": {},
   "source": [
    "### Importing libraries"
   ]
  },
  {
   "cell_type": "code",
   "execution_count": 3,
   "metadata": {},
   "outputs": [],
   "source": [
    "# Pandas to handle dataset\n",
    "import pandas as pd \n",
    "# Numpy to handle and operate through arrays\n",
    "import numpy as np\n",
    "# Matplotlib for data visualization\n",
    "import matplotlib.pyplot as plt\n",
    "%matplotlib inline"
   ]
  },
  {
   "cell_type": "code",
   "execution_count": 17,
   "metadata": {
    "tags": []
   },
   "outputs": [
    {
     "output_type": "stream",
     "name": "stdout",
     "text": "Hello Capstone Project Course!\n"
    }
   ],
   "source": [
    "print(\"Hello Capstone Project Course!\")"
   ]
  },
  {
   "cell_type": "code",
   "execution_count": 57,
   "metadata": {},
   "outputs": [],
   "source": [
    "df_collisions = pd.read_csv(\"Data-Collisions.csv\")\n",
    "\n",
    "#df_collisions.head()"
   ]
  },
  {
   "cell_type": "code",
   "execution_count": 22,
   "metadata": {
    "tags": []
   },
   "outputs": [
    {
     "output_type": "stream",
     "name": "stdout",
     "text": "<class 'pandas.core.frame.DataFrame'>\nRangeIndex: 194673 entries, 0 to 194672\nData columns (total 38 columns):\n #   Column          Non-Null Count   Dtype  \n---  ------          --------------   -----  \n 0   SEVERITYCODE    194673 non-null  int64  \n 1   X               189339 non-null  float64\n 2   Y               189339 non-null  float64\n 3   OBJECTID        194673 non-null  int64  \n 4   INCKEY          194673 non-null  int64  \n 5   COLDETKEY       194673 non-null  int64  \n 6   REPORTNO        194673 non-null  object \n 7   STATUS          194673 non-null  object \n 8   ADDRTYPE        192747 non-null  object \n 9   INTKEY          65070 non-null   float64\n 10  LOCATION        191996 non-null  object \n 11  EXCEPTRSNCODE   84811 non-null   object \n 12  EXCEPTRSNDESC   5638 non-null    object \n 13  SEVERITYCODE.1  194673 non-null  int64  \n 14  SEVERITYDESC    194673 non-null  object \n 15  COLLISIONTYPE   189769 non-null  object \n 16  PERSONCOUNT     194673 non-null  int64  \n 17  PEDCOUNT        194673 non-null  int64  \n 18  PEDCYLCOUNT     194673 non-null  int64  \n 19  VEHCOUNT        194673 non-null  int64  \n 20  INCDATE         194673 non-null  object \n 21  INCDTTM         194673 non-null  object \n 22  JUNCTIONTYPE    188344 non-null  object \n 23  SDOT_COLCODE    194673 non-null  int64  \n 24  SDOT_COLDESC    194673 non-null  object \n 25  INATTENTIONIND  29805 non-null   object \n 26  UNDERINFL       189789 non-null  object \n 27  WEATHER         189592 non-null  object \n 28  ROADCOND        189661 non-null  object \n 29  LIGHTCOND       189503 non-null  object \n 30  PEDROWNOTGRNT   4667 non-null    object \n 31  SDOTCOLNUM      114936 non-null  float64\n 32  SPEEDING        9333 non-null    object \n 33  ST_COLCODE      194655 non-null  object \n 34  ST_COLDESC      189769 non-null  object \n 35  SEGLANEKEY      194673 non-null  int64  \n 36  CROSSWALKKEY    194673 non-null  int64  \n 37  HITPARKEDCAR    194673 non-null  object \ndtypes: float64(4), int64(12), object(22)\nmemory usage: 56.4+ MB\n"
    }
   ],
   "source": [
    "df_collisions.info()"
   ]
  },
  {
   "cell_type": "code",
   "execution_count": 21,
   "metadata": {},
   "outputs": [
    {
     "output_type": "execute_result",
     "data": {
      "text/plain": "SEVERITYCODE           0\nX                   5334\nY                   5334\nOBJECTID               0\nINCKEY                 0\nCOLDETKEY              0\nREPORTNO               0\nSTATUS                 0\nADDRTYPE            1926\nINTKEY            129603\nLOCATION            2677\nEXCEPTRSNCODE     109862\nEXCEPTRSNDESC     189035\nSEVERITYCODE.1         0\nSEVERITYDESC           0\nCOLLISIONTYPE       4904\nPERSONCOUNT            0\nPEDCOUNT               0\nPEDCYLCOUNT            0\nVEHCOUNT               0\nINCDATE                0\nINCDTTM                0\nJUNCTIONTYPE        6329\nSDOT_COLCODE           0\nSDOT_COLDESC           0\nINATTENTIONIND    164868\nUNDERINFL           4884\nWEATHER             5081\nROADCOND            5012\nLIGHTCOND           5170\nPEDROWNOTGRNT     190006\nSDOTCOLNUM         79737\nSPEEDING          185340\nST_COLCODE            18\nST_COLDESC          4904\nSEGLANEKEY             0\nCROSSWALKKEY           0\nHITPARKEDCAR           0\ndtype: int64"
     },
     "metadata": {},
     "execution_count": 21
    }
   ],
   "source": [
    "df_collisions.isnull().sum()"
   ]
  },
  {
   "cell_type": "code",
   "execution_count": 58,
   "metadata": {
    "tags": []
   },
   "outputs": [
    {
     "output_type": "stream",
     "name": "stdout",
     "text": "38\n32\n"
    }
   ],
   "source": [
    "# Total observations: 194673\n",
    "# Maybe we can drop columns that have half of this value or more of missing values (97336+)\n",
    "print(np.asarray(df_collisions.columns).size)\n",
    "df_collisions.dropna(axis=1, thresh=97336, inplace=True)\n",
    "print(np.asarray(df_collisions.columns).size)"
   ]
  },
  {
   "cell_type": "code",
   "execution_count": 59,
   "metadata": {},
   "outputs": [
    {
     "output_type": "execute_result",
     "data": {
      "text/plain": "SEVERITYCODE          0\nX                  5334\nY                  5334\nOBJECTID              0\nINCKEY                0\nCOLDETKEY             0\nREPORTNO              0\nSTATUS                0\nADDRTYPE           1926\nLOCATION           2677\nSEVERITYCODE.1        0\nSEVERITYDESC          0\nCOLLISIONTYPE      4904\nPERSONCOUNT           0\nPEDCOUNT              0\nPEDCYLCOUNT           0\nVEHCOUNT              0\nINCDATE               0\nINCDTTM               0\nJUNCTIONTYPE       6329\nSDOT_COLCODE          0\nSDOT_COLDESC          0\nUNDERINFL          4884\nWEATHER            5081\nROADCOND           5012\nLIGHTCOND          5170\nSDOTCOLNUM        79737\nST_COLCODE           18\nST_COLDESC         4904\nSEGLANEKEY            0\nCROSSWALKKEY          0\nHITPARKEDCAR          0\ndtype: int64"
     },
     "metadata": {},
     "execution_count": 59
    }
   ],
   "source": [
    "df_collisions.isnull().sum()"
   ]
  },
  {
   "cell_type": "code",
   "execution_count": 5,
   "metadata": {},
   "outputs": [
    {
     "output_type": "execute_result",
     "data": {
      "text/plain": "        SEVERITYCODE              X              Y       OBJECTID  \\\ncount  194673.000000  189339.000000  189339.000000  194673.000000   \nmean        1.298901    -122.330518      47.619543  108479.364930   \nstd         0.457778       0.029976       0.056157   62649.722558   \nmin         1.000000    -122.419091      47.495573       1.000000   \n25%         1.000000    -122.348673      47.575956   54267.000000   \n50%         1.000000    -122.330224      47.615369  106912.000000   \n75%         2.000000    -122.311937      47.663664  162272.000000   \nmax         2.000000    -122.238949      47.734142  219547.000000   \n\n              INCKEY      COLDETKEY         INTKEY  SEVERITYCODE.1  \\\ncount  194673.000000  194673.000000   65070.000000   194673.000000   \nmean   141091.456350  141298.811381   37558.450576        1.298901   \nstd     86634.402737   86986.542110   51745.990273        0.457778   \nmin      1001.000000    1001.000000   23807.000000        1.000000   \n25%     70383.000000   70383.000000   28667.000000        1.000000   \n50%    123363.000000  123363.000000   29973.000000        1.000000   \n75%    203319.000000  203459.000000   33973.000000        2.000000   \nmax    331454.000000  332954.000000  757580.000000        2.000000   \n\n         PERSONCOUNT       PEDCOUNT    PEDCYLCOUNT       VEHCOUNT  \\\ncount  194673.000000  194673.000000  194673.000000  194673.000000   \nmean        2.444427       0.037139       0.028391       1.920780   \nstd         1.345929       0.198150       0.167413       0.631047   \nmin         0.000000       0.000000       0.000000       0.000000   \n25%         2.000000       0.000000       0.000000       2.000000   \n50%         2.000000       0.000000       0.000000       2.000000   \n75%         3.000000       0.000000       0.000000       2.000000   \nmax        81.000000       6.000000       2.000000      12.000000   \n\n        SDOT_COLCODE    SDOTCOLNUM     SEGLANEKEY  CROSSWALKKEY  \ncount  194673.000000  1.149360e+05  194673.000000  1.946730e+05  \nmean       13.867768  7.972521e+06     269.401114  9.782452e+03  \nstd         6.868755  2.553533e+06    3315.776055  7.226926e+04  \nmin         0.000000  1.007024e+06       0.000000  0.000000e+00  \n25%        11.000000  6.040015e+06       0.000000  0.000000e+00  \n50%        13.000000  8.023022e+06       0.000000  0.000000e+00  \n75%        14.000000  1.015501e+07       0.000000  0.000000e+00  \nmax        69.000000  1.307202e+07  525241.000000  5.239700e+06  ",
      "text/html": "<div>\n<style scoped>\n    .dataframe tbody tr th:only-of-type {\n        vertical-align: middle;\n    }\n\n    .dataframe tbody tr th {\n        vertical-align: top;\n    }\n\n    .dataframe thead th {\n        text-align: right;\n    }\n</style>\n<table border=\"1\" class=\"dataframe\">\n  <thead>\n    <tr style=\"text-align: right;\">\n      <th></th>\n      <th>SEVERITYCODE</th>\n      <th>X</th>\n      <th>Y</th>\n      <th>OBJECTID</th>\n      <th>INCKEY</th>\n      <th>COLDETKEY</th>\n      <th>INTKEY</th>\n      <th>SEVERITYCODE.1</th>\n      <th>PERSONCOUNT</th>\n      <th>PEDCOUNT</th>\n      <th>PEDCYLCOUNT</th>\n      <th>VEHCOUNT</th>\n      <th>SDOT_COLCODE</th>\n      <th>SDOTCOLNUM</th>\n      <th>SEGLANEKEY</th>\n      <th>CROSSWALKKEY</th>\n    </tr>\n  </thead>\n  <tbody>\n    <tr>\n      <th>count</th>\n      <td>194673.000000</td>\n      <td>189339.000000</td>\n      <td>189339.000000</td>\n      <td>194673.000000</td>\n      <td>194673.000000</td>\n      <td>194673.000000</td>\n      <td>65070.000000</td>\n      <td>194673.000000</td>\n      <td>194673.000000</td>\n      <td>194673.000000</td>\n      <td>194673.000000</td>\n      <td>194673.000000</td>\n      <td>194673.000000</td>\n      <td>1.149360e+05</td>\n      <td>194673.000000</td>\n      <td>1.946730e+05</td>\n    </tr>\n    <tr>\n      <th>mean</th>\n      <td>1.298901</td>\n      <td>-122.330518</td>\n      <td>47.619543</td>\n      <td>108479.364930</td>\n      <td>141091.456350</td>\n      <td>141298.811381</td>\n      <td>37558.450576</td>\n      <td>1.298901</td>\n      <td>2.444427</td>\n      <td>0.037139</td>\n      <td>0.028391</td>\n      <td>1.920780</td>\n      <td>13.867768</td>\n      <td>7.972521e+06</td>\n      <td>269.401114</td>\n      <td>9.782452e+03</td>\n    </tr>\n    <tr>\n      <th>std</th>\n      <td>0.457778</td>\n      <td>0.029976</td>\n      <td>0.056157</td>\n      <td>62649.722558</td>\n      <td>86634.402737</td>\n      <td>86986.542110</td>\n      <td>51745.990273</td>\n      <td>0.457778</td>\n      <td>1.345929</td>\n      <td>0.198150</td>\n      <td>0.167413</td>\n      <td>0.631047</td>\n      <td>6.868755</td>\n      <td>2.553533e+06</td>\n      <td>3315.776055</td>\n      <td>7.226926e+04</td>\n    </tr>\n    <tr>\n      <th>min</th>\n      <td>1.000000</td>\n      <td>-122.419091</td>\n      <td>47.495573</td>\n      <td>1.000000</td>\n      <td>1001.000000</td>\n      <td>1001.000000</td>\n      <td>23807.000000</td>\n      <td>1.000000</td>\n      <td>0.000000</td>\n      <td>0.000000</td>\n      <td>0.000000</td>\n      <td>0.000000</td>\n      <td>0.000000</td>\n      <td>1.007024e+06</td>\n      <td>0.000000</td>\n      <td>0.000000e+00</td>\n    </tr>\n    <tr>\n      <th>25%</th>\n      <td>1.000000</td>\n      <td>-122.348673</td>\n      <td>47.575956</td>\n      <td>54267.000000</td>\n      <td>70383.000000</td>\n      <td>70383.000000</td>\n      <td>28667.000000</td>\n      <td>1.000000</td>\n      <td>2.000000</td>\n      <td>0.000000</td>\n      <td>0.000000</td>\n      <td>2.000000</td>\n      <td>11.000000</td>\n      <td>6.040015e+06</td>\n      <td>0.000000</td>\n      <td>0.000000e+00</td>\n    </tr>\n    <tr>\n      <th>50%</th>\n      <td>1.000000</td>\n      <td>-122.330224</td>\n      <td>47.615369</td>\n      <td>106912.000000</td>\n      <td>123363.000000</td>\n      <td>123363.000000</td>\n      <td>29973.000000</td>\n      <td>1.000000</td>\n      <td>2.000000</td>\n      <td>0.000000</td>\n      <td>0.000000</td>\n      <td>2.000000</td>\n      <td>13.000000</td>\n      <td>8.023022e+06</td>\n      <td>0.000000</td>\n      <td>0.000000e+00</td>\n    </tr>\n    <tr>\n      <th>75%</th>\n      <td>2.000000</td>\n      <td>-122.311937</td>\n      <td>47.663664</td>\n      <td>162272.000000</td>\n      <td>203319.000000</td>\n      <td>203459.000000</td>\n      <td>33973.000000</td>\n      <td>2.000000</td>\n      <td>3.000000</td>\n      <td>0.000000</td>\n      <td>0.000000</td>\n      <td>2.000000</td>\n      <td>14.000000</td>\n      <td>1.015501e+07</td>\n      <td>0.000000</td>\n      <td>0.000000e+00</td>\n    </tr>\n    <tr>\n      <th>max</th>\n      <td>2.000000</td>\n      <td>-122.238949</td>\n      <td>47.734142</td>\n      <td>219547.000000</td>\n      <td>331454.000000</td>\n      <td>332954.000000</td>\n      <td>757580.000000</td>\n      <td>2.000000</td>\n      <td>81.000000</td>\n      <td>6.000000</td>\n      <td>2.000000</td>\n      <td>12.000000</td>\n      <td>69.000000</td>\n      <td>1.307202e+07</td>\n      <td>525241.000000</td>\n      <td>5.239700e+06</td>\n    </tr>\n  </tbody>\n</table>\n</div>"
     },
     "metadata": {},
     "execution_count": 5
    }
   ],
   "source": [
    "df_collisions.describe()"
   ]
  },
  {
   "cell_type": "code",
   "execution_count": 4,
   "metadata": {},
   "outputs": [
    {
     "output_type": "execute_result",
     "data": {
      "text/plain": "                SEVERITYCODE         X         Y  OBJECTID    INCKEY  \\\nSEVERITYCODE        1.000000  0.010309  0.017737  0.020131  0.022065   \nX                   0.010309  1.000000 -0.160262  0.009956  0.010309   \nY                   0.017737 -0.160262  1.000000 -0.023848 -0.027396   \nOBJECTID            0.020131  0.009956 -0.023848  1.000000  0.946383   \nINCKEY              0.022065  0.010309 -0.027396  0.946383  1.000000   \nCOLDETKEY           0.022079  0.010300 -0.027415  0.945837  0.999996   \nINTKEY              0.006553  0.120754 -0.114935  0.046929  0.048524   \nSEVERITYCODE.1      1.000000  0.010309  0.017737  0.020131  0.022065   \nPERSONCOUNT         0.130949  0.012887 -0.013850 -0.062333 -0.061500   \nPEDCOUNT            0.246338  0.011304  0.010178  0.024604  0.024918   \nPEDCYLCOUNT         0.214218 -0.001752  0.026304  0.034432  0.031342   \nVEHCOUNT           -0.054686 -0.012168  0.017058 -0.094280 -0.107528   \nSDOT_COLCODE        0.188905  0.010904 -0.019694 -0.037094 -0.027617   \nSDOTCOLNUM          0.004226 -0.001016 -0.006958  0.969276  0.990571   \nSEGLANEKEY          0.104276 -0.001618  0.004618  0.028076  0.019701   \nCROSSWALKKEY        0.175093  0.013586  0.009508  0.056046  0.048179   \n\n                COLDETKEY    INTKEY  SEVERITYCODE.1  PERSONCOUNT  PEDCOUNT  \\\nSEVERITYCODE     0.022079  0.006553        1.000000     0.130949  0.246338   \nX                0.010300  0.120754        0.010309     0.012887  0.011304   \nY               -0.027415 -0.114935        0.017737    -0.013850  0.010178   \nOBJECTID         0.945837  0.046929        0.020131    -0.062333  0.024604   \nINCKEY           0.999996  0.048524        0.022065    -0.061500  0.024918   \nCOLDETKEY        1.000000  0.048499        0.022079    -0.061403  0.024914   \nINTKEY           0.048499  1.000000        0.006553     0.001886 -0.004784   \nSEVERITYCODE.1   0.022079  0.006553        1.000000     0.130949  0.246338   \nPERSONCOUNT     -0.061403  0.001886        0.130949     1.000000 -0.023464   \nPEDCOUNT         0.024914 -0.004784        0.246338    -0.023464  1.000000   \nPEDCYLCOUNT      0.031296  0.000531        0.214218    -0.038809 -0.016920   \nVEHCOUNT        -0.107598 -0.012929       -0.054686     0.380523 -0.261285   \nSDOT_COLCODE    -0.027461  0.007114        0.188905    -0.128960  0.260393   \nSDOTCOLNUM       0.990571  0.032604        0.004226     0.011784  0.021461   \nSEGLANEKEY       0.019586 -0.010510        0.104276    -0.021383  0.001810   \nCROSSWALKKEY     0.048063  0.018420        0.175093    -0.032258  0.565326   \n\n                PEDCYLCOUNT  VEHCOUNT  SDOT_COLCODE  SDOTCOLNUM  SEGLANEKEY  \\\nSEVERITYCODE       0.214218 -0.054686      0.188905    0.004226    0.104276   \nX                 -0.001752 -0.012168      0.010904   -0.001016   -0.001618   \nY                  0.026304  0.017058     -0.019694   -0.006958    0.004618   \nOBJECTID           0.034432 -0.094280     -0.037094    0.969276    0.028076   \nINCKEY             0.031342 -0.107528     -0.027617    0.990571    0.019701   \nCOLDETKEY          0.031296 -0.107598     -0.027461    0.990571    0.019586   \nINTKEY             0.000531 -0.012929      0.007114    0.032604   -0.010510   \nSEVERITYCODE.1     0.214218 -0.054686      0.188905    0.004226    0.104276   \nPERSONCOUNT       -0.038809  0.380523     -0.128960    0.011784   -0.021383   \nPEDCOUNT          -0.016920 -0.261285      0.260393    0.021461    0.001810   \nPEDCYLCOUNT        1.000000 -0.253773      0.382521    0.034593    0.453657   \nVEHCOUNT          -0.253773  1.000000     -0.365814   -0.023813   -0.122941   \nSDOT_COLCODE       0.382521 -0.365814      1.000000   -0.041084    0.206835   \nSDOTCOLNUM         0.034593 -0.023813     -0.041084    1.000000    0.066449   \nSEGLANEKEY         0.453657 -0.122941      0.206835    0.066449    1.000000   \nCROSSWALKKEY       0.109820 -0.200526      0.189518    0.086228   -0.003422   \n\n                CROSSWALKKEY  \nSEVERITYCODE        0.175093  \nX                   0.013586  \nY                   0.009508  \nOBJECTID            0.056046  \nINCKEY              0.048179  \nCOLDETKEY           0.048063  \nINTKEY              0.018420  \nSEVERITYCODE.1      0.175093  \nPERSONCOUNT        -0.032258  \nPEDCOUNT            0.565326  \nPEDCYLCOUNT         0.109820  \nVEHCOUNT           -0.200526  \nSDOT_COLCODE        0.189518  \nSDOTCOLNUM          0.086228  \nSEGLANEKEY         -0.003422  \nCROSSWALKKEY        1.000000  ",
      "text/html": "<div>\n<style scoped>\n    .dataframe tbody tr th:only-of-type {\n        vertical-align: middle;\n    }\n\n    .dataframe tbody tr th {\n        vertical-align: top;\n    }\n\n    .dataframe thead th {\n        text-align: right;\n    }\n</style>\n<table border=\"1\" class=\"dataframe\">\n  <thead>\n    <tr style=\"text-align: right;\">\n      <th></th>\n      <th>SEVERITYCODE</th>\n      <th>X</th>\n      <th>Y</th>\n      <th>OBJECTID</th>\n      <th>INCKEY</th>\n      <th>COLDETKEY</th>\n      <th>INTKEY</th>\n      <th>SEVERITYCODE.1</th>\n      <th>PERSONCOUNT</th>\n      <th>PEDCOUNT</th>\n      <th>PEDCYLCOUNT</th>\n      <th>VEHCOUNT</th>\n      <th>SDOT_COLCODE</th>\n      <th>SDOTCOLNUM</th>\n      <th>SEGLANEKEY</th>\n      <th>CROSSWALKKEY</th>\n    </tr>\n  </thead>\n  <tbody>\n    <tr>\n      <th>SEVERITYCODE</th>\n      <td>1.000000</td>\n      <td>0.010309</td>\n      <td>0.017737</td>\n      <td>0.020131</td>\n      <td>0.022065</td>\n      <td>0.022079</td>\n      <td>0.006553</td>\n      <td>1.000000</td>\n      <td>0.130949</td>\n      <td>0.246338</td>\n      <td>0.214218</td>\n      <td>-0.054686</td>\n      <td>0.188905</td>\n      <td>0.004226</td>\n      <td>0.104276</td>\n      <td>0.175093</td>\n    </tr>\n    <tr>\n      <th>X</th>\n      <td>0.010309</td>\n      <td>1.000000</td>\n      <td>-0.160262</td>\n      <td>0.009956</td>\n      <td>0.010309</td>\n      <td>0.010300</td>\n      <td>0.120754</td>\n      <td>0.010309</td>\n      <td>0.012887</td>\n      <td>0.011304</td>\n      <td>-0.001752</td>\n      <td>-0.012168</td>\n      <td>0.010904</td>\n      <td>-0.001016</td>\n      <td>-0.001618</td>\n      <td>0.013586</td>\n    </tr>\n    <tr>\n      <th>Y</th>\n      <td>0.017737</td>\n      <td>-0.160262</td>\n      <td>1.000000</td>\n      <td>-0.023848</td>\n      <td>-0.027396</td>\n      <td>-0.027415</td>\n      <td>-0.114935</td>\n      <td>0.017737</td>\n      <td>-0.013850</td>\n      <td>0.010178</td>\n      <td>0.026304</td>\n      <td>0.017058</td>\n      <td>-0.019694</td>\n      <td>-0.006958</td>\n      <td>0.004618</td>\n      <td>0.009508</td>\n    </tr>\n    <tr>\n      <th>OBJECTID</th>\n      <td>0.020131</td>\n      <td>0.009956</td>\n      <td>-0.023848</td>\n      <td>1.000000</td>\n      <td>0.946383</td>\n      <td>0.945837</td>\n      <td>0.046929</td>\n      <td>0.020131</td>\n      <td>-0.062333</td>\n      <td>0.024604</td>\n      <td>0.034432</td>\n      <td>-0.094280</td>\n      <td>-0.037094</td>\n      <td>0.969276</td>\n      <td>0.028076</td>\n      <td>0.056046</td>\n    </tr>\n    <tr>\n      <th>INCKEY</th>\n      <td>0.022065</td>\n      <td>0.010309</td>\n      <td>-0.027396</td>\n      <td>0.946383</td>\n      <td>1.000000</td>\n      <td>0.999996</td>\n      <td>0.048524</td>\n      <td>0.022065</td>\n      <td>-0.061500</td>\n      <td>0.024918</td>\n      <td>0.031342</td>\n      <td>-0.107528</td>\n      <td>-0.027617</td>\n      <td>0.990571</td>\n      <td>0.019701</td>\n      <td>0.048179</td>\n    </tr>\n    <tr>\n      <th>COLDETKEY</th>\n      <td>0.022079</td>\n      <td>0.010300</td>\n      <td>-0.027415</td>\n      <td>0.945837</td>\n      <td>0.999996</td>\n      <td>1.000000</td>\n      <td>0.048499</td>\n      <td>0.022079</td>\n      <td>-0.061403</td>\n      <td>0.024914</td>\n      <td>0.031296</td>\n      <td>-0.107598</td>\n      <td>-0.027461</td>\n      <td>0.990571</td>\n      <td>0.019586</td>\n      <td>0.048063</td>\n    </tr>\n    <tr>\n      <th>INTKEY</th>\n      <td>0.006553</td>\n      <td>0.120754</td>\n      <td>-0.114935</td>\n      <td>0.046929</td>\n      <td>0.048524</td>\n      <td>0.048499</td>\n      <td>1.000000</td>\n      <td>0.006553</td>\n      <td>0.001886</td>\n      <td>-0.004784</td>\n      <td>0.000531</td>\n      <td>-0.012929</td>\n      <td>0.007114</td>\n      <td>0.032604</td>\n      <td>-0.010510</td>\n      <td>0.018420</td>\n    </tr>\n    <tr>\n      <th>SEVERITYCODE.1</th>\n      <td>1.000000</td>\n      <td>0.010309</td>\n      <td>0.017737</td>\n      <td>0.020131</td>\n      <td>0.022065</td>\n      <td>0.022079</td>\n      <td>0.006553</td>\n      <td>1.000000</td>\n      <td>0.130949</td>\n      <td>0.246338</td>\n      <td>0.214218</td>\n      <td>-0.054686</td>\n      <td>0.188905</td>\n      <td>0.004226</td>\n      <td>0.104276</td>\n      <td>0.175093</td>\n    </tr>\n    <tr>\n      <th>PERSONCOUNT</th>\n      <td>0.130949</td>\n      <td>0.012887</td>\n      <td>-0.013850</td>\n      <td>-0.062333</td>\n      <td>-0.061500</td>\n      <td>-0.061403</td>\n      <td>0.001886</td>\n      <td>0.130949</td>\n      <td>1.000000</td>\n      <td>-0.023464</td>\n      <td>-0.038809</td>\n      <td>0.380523</td>\n      <td>-0.128960</td>\n      <td>0.011784</td>\n      <td>-0.021383</td>\n      <td>-0.032258</td>\n    </tr>\n    <tr>\n      <th>PEDCOUNT</th>\n      <td>0.246338</td>\n      <td>0.011304</td>\n      <td>0.010178</td>\n      <td>0.024604</td>\n      <td>0.024918</td>\n      <td>0.024914</td>\n      <td>-0.004784</td>\n      <td>0.246338</td>\n      <td>-0.023464</td>\n      <td>1.000000</td>\n      <td>-0.016920</td>\n      <td>-0.261285</td>\n      <td>0.260393</td>\n      <td>0.021461</td>\n      <td>0.001810</td>\n      <td>0.565326</td>\n    </tr>\n    <tr>\n      <th>PEDCYLCOUNT</th>\n      <td>0.214218</td>\n      <td>-0.001752</td>\n      <td>0.026304</td>\n      <td>0.034432</td>\n      <td>0.031342</td>\n      <td>0.031296</td>\n      <td>0.000531</td>\n      <td>0.214218</td>\n      <td>-0.038809</td>\n      <td>-0.016920</td>\n      <td>1.000000</td>\n      <td>-0.253773</td>\n      <td>0.382521</td>\n      <td>0.034593</td>\n      <td>0.453657</td>\n      <td>0.109820</td>\n    </tr>\n    <tr>\n      <th>VEHCOUNT</th>\n      <td>-0.054686</td>\n      <td>-0.012168</td>\n      <td>0.017058</td>\n      <td>-0.094280</td>\n      <td>-0.107528</td>\n      <td>-0.107598</td>\n      <td>-0.012929</td>\n      <td>-0.054686</td>\n      <td>0.380523</td>\n      <td>-0.261285</td>\n      <td>-0.253773</td>\n      <td>1.000000</td>\n      <td>-0.365814</td>\n      <td>-0.023813</td>\n      <td>-0.122941</td>\n      <td>-0.200526</td>\n    </tr>\n    <tr>\n      <th>SDOT_COLCODE</th>\n      <td>0.188905</td>\n      <td>0.010904</td>\n      <td>-0.019694</td>\n      <td>-0.037094</td>\n      <td>-0.027617</td>\n      <td>-0.027461</td>\n      <td>0.007114</td>\n      <td>0.188905</td>\n      <td>-0.128960</td>\n      <td>0.260393</td>\n      <td>0.382521</td>\n      <td>-0.365814</td>\n      <td>1.000000</td>\n      <td>-0.041084</td>\n      <td>0.206835</td>\n      <td>0.189518</td>\n    </tr>\n    <tr>\n      <th>SDOTCOLNUM</th>\n      <td>0.004226</td>\n      <td>-0.001016</td>\n      <td>-0.006958</td>\n      <td>0.969276</td>\n      <td>0.990571</td>\n      <td>0.990571</td>\n      <td>0.032604</td>\n      <td>0.004226</td>\n      <td>0.011784</td>\n      <td>0.021461</td>\n      <td>0.034593</td>\n      <td>-0.023813</td>\n      <td>-0.041084</td>\n      <td>1.000000</td>\n      <td>0.066449</td>\n      <td>0.086228</td>\n    </tr>\n    <tr>\n      <th>SEGLANEKEY</th>\n      <td>0.104276</td>\n      <td>-0.001618</td>\n      <td>0.004618</td>\n      <td>0.028076</td>\n      <td>0.019701</td>\n      <td>0.019586</td>\n      <td>-0.010510</td>\n      <td>0.104276</td>\n      <td>-0.021383</td>\n      <td>0.001810</td>\n      <td>0.453657</td>\n      <td>-0.122941</td>\n      <td>0.206835</td>\n      <td>0.066449</td>\n      <td>1.000000</td>\n      <td>-0.003422</td>\n    </tr>\n    <tr>\n      <th>CROSSWALKKEY</th>\n      <td>0.175093</td>\n      <td>0.013586</td>\n      <td>0.009508</td>\n      <td>0.056046</td>\n      <td>0.048179</td>\n      <td>0.048063</td>\n      <td>0.018420</td>\n      <td>0.175093</td>\n      <td>-0.032258</td>\n      <td>0.565326</td>\n      <td>0.109820</td>\n      <td>-0.200526</td>\n      <td>0.189518</td>\n      <td>0.086228</td>\n      <td>-0.003422</td>\n      <td>1.000000</td>\n    </tr>\n  </tbody>\n</table>\n</div>"
     },
     "metadata": {},
     "execution_count": 4
    }
   ],
   "source": [
    "df_collisions.corr()"
   ]
  }
 ],
 "metadata": {
  "kernelspec": {
   "display_name": "Python 3",
   "language": "python",
   "name": "python3"
  },
  "language_info": {
   "codemirror_mode": {
    "name": "ipython",
    "version": 3
   },
   "file_extension": ".py",
   "mimetype": "text/x-python",
   "name": "python",
   "nbconvert_exporter": "python",
   "pygments_lexer": "ipython3",
   "version": "3.8.5"
  }
 },
 "nbformat": 4,
 "nbformat_minor": 4
}