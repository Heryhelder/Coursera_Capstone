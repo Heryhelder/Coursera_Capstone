{
 "cells": [
  {
   "cell_type": "markdown",
   "metadata": {},
   "source": [
    "# Data Science Capstone Project"
   ]
  },
  {
   "cell_type": "markdown",
   "metadata": {},
   "source": [
    "## Summary:\n",
    "* [Business Problem](#business_problem)\n",
    "* [Data understanding](#data_understanding)\n",
    "* [Exploratory Data Analysis](#eda)\n",
    "* [Modeling](#modeling)\n",
    "* [Evaluation](#evaluation)\n",
    "* [Conclusion](#conclusion)"
   ]
  },
  {
   "cell_type": "markdown",
   "metadata": {},
   "source": [
    "## Business problem <a name=\"business_problem\"></a>\n",
    "\n",
    "Every year, several people dies in car accident, whether from inattention, something in the track, illumination, external factors, etc.\n",
    "\n",
    "This project aims to predict the severity of an accident, based on previous data, so it can help authorities, hospitals and health care systems, and, of course, the driver.\n",
    "\n",
    "To do it, we are going to use Machine Learning Supervised algorithms to process the data and try to predict and to send info about the accident to emergency services."
   ]
  },
  {
   "cell_type": "markdown",
   "metadata": {},
   "source": [
    "## Data understanding <a name=\"data_understanding\"></a>\n",
    "\n",
    "The data we will use comes from the SDOT Traffic Management Division, Traffic Records Group, in CSV format. The data are from Seattle, and date from 2004 to the present day, they are updated weekly, so, later, we can make our model absorb more data, both to improve accuracy, and to look for new trends in the data and deliver a better result.\n",
    "Within the CSV file we have columns that represent different types of data, such as the date of the accident, track conditions, number of accidents, number of cars involved, pedestrians, cyclists, etc. We also have many columns that serve only to identify each accident by bodies that deal with this type of work. In addition, we have many empty and unknown values that we need to deal with some techniques.\n",
    "We can have more information about each column in the <b> METADATA.pdf </b> file to know what each variable is for.\n",
    "The column we need to predict is the \"SEVERITYCODE\" which has the value of the severity of the accident, the higher, the greater the severity. Through some analysis, we can see that currently we will only deal with two values: 1 or 2 (damage only to properties and people injured in the accident, respectively)."
   ]
  },
  {
   "cell_type": "markdown",
   "metadata": {},
   "source": [
    "### Importing libraries"
   ]
  },
  {
   "cell_type": "code",
   "execution_count": 1,
   "metadata": {},
   "outputs": [],
   "source": [
    "# Pandas to handle dataset\n",
    "import pandas as pd \n",
    "\n",
    "# Numpy to handle and operate through arrays\n",
    "import numpy as np\n",
    "\n",
    "# Data visualization\n",
    "import matplotlib.pyplot as plt\n",
    "import seaborn as sns\n",
    "%matplotlib inline\n",
    "\n",
    "# Removing warnings\n",
    "import warnings\n",
    "warnings.filterwarnings('ignore')\n",
    "warnings.simplefilter('ignore')"
   ]
  },
  {
   "cell_type": "code",
   "execution_count": 2,
   "metadata": {},
   "outputs": [
    {
     "output_type": "execute_result",
     "data": {
      "text/plain": [
       "   SEVERITYCODE           X          Y  OBJECTID  INCKEY  COLDETKEY REPORTNO  \\\n",
       "0             2 -122.323148  47.703140         1    1307       1307  3502005   \n",
       "1             1 -122.347294  47.647172         2   52200      52200  2607959   \n",
       "2             1 -122.334540  47.607871         3   26700      26700  1482393   \n",
       "3             1 -122.334803  47.604803         4    1144       1144  3503937   \n",
       "4             2 -122.306426  47.545739         5   17700      17700  1807429   \n",
       "\n",
       "    STATUS      ADDRTYPE   INTKEY  ... ROADCOND                LIGHTCOND  \\\n",
       "0  Matched  Intersection  37475.0  ...      Wet                 Daylight   \n",
       "1  Matched         Block      NaN  ...      Wet  Dark - Street Lights On   \n",
       "2  Matched         Block      NaN  ...      Dry                 Daylight   \n",
       "3  Matched         Block      NaN  ...      Dry                 Daylight   \n",
       "4  Matched  Intersection  34387.0  ...      Wet                 Daylight   \n",
       "\n",
       "  PEDROWNOTGRNT  SDOTCOLNUM SPEEDING ST_COLCODE  \\\n",
       "0           NaN         NaN      NaN         10   \n",
       "1           NaN   6354039.0      NaN         11   \n",
       "2           NaN   4323031.0      NaN         32   \n",
       "3           NaN         NaN      NaN         23   \n",
       "4           NaN   4028032.0      NaN         10   \n",
       "\n",
       "                                          ST_COLDESC  SEGLANEKEY  \\\n",
       "0                                  Entering at angle           0   \n",
       "1  From same direction - both going straight - bo...           0   \n",
       "2                             One parked--one moving           0   \n",
       "3                   From same direction - all others           0   \n",
       "4                                  Entering at angle           0   \n",
       "\n",
       "   CROSSWALKKEY  HITPARKEDCAR  \n",
       "0             0             N  \n",
       "1             0             N  \n",
       "2             0             N  \n",
       "3             0             N  \n",
       "4             0             N  \n",
       "\n",
       "[5 rows x 38 columns]"
      ],
      "text/html": "<div>\n<style scoped>\n    .dataframe tbody tr th:only-of-type {\n        vertical-align: middle;\n    }\n\n    .dataframe tbody tr th {\n        vertical-align: top;\n    }\n\n    .dataframe thead th {\n        text-align: right;\n    }\n</style>\n<table border=\"1\" class=\"dataframe\">\n  <thead>\n    <tr style=\"text-align: right;\">\n      <th></th>\n      <th>SEVERITYCODE</th>\n      <th>X</th>\n      <th>Y</th>\n      <th>OBJECTID</th>\n      <th>INCKEY</th>\n      <th>COLDETKEY</th>\n      <th>REPORTNO</th>\n      <th>STATUS</th>\n      <th>ADDRTYPE</th>\n      <th>INTKEY</th>\n      <th>...</th>\n      <th>ROADCOND</th>\n      <th>LIGHTCOND</th>\n      <th>PEDROWNOTGRNT</th>\n      <th>SDOTCOLNUM</th>\n      <th>SPEEDING</th>\n      <th>ST_COLCODE</th>\n      <th>ST_COLDESC</th>\n      <th>SEGLANEKEY</th>\n      <th>CROSSWALKKEY</th>\n      <th>HITPARKEDCAR</th>\n    </tr>\n  </thead>\n  <tbody>\n    <tr>\n      <th>0</th>\n      <td>2</td>\n      <td>-122.323148</td>\n      <td>47.703140</td>\n      <td>1</td>\n      <td>1307</td>\n      <td>1307</td>\n      <td>3502005</td>\n      <td>Matched</td>\n      <td>Intersection</td>\n      <td>37475.0</td>\n      <td>...</td>\n      <td>Wet</td>\n      <td>Daylight</td>\n      <td>NaN</td>\n      <td>NaN</td>\n      <td>NaN</td>\n      <td>10</td>\n      <td>Entering at angle</td>\n      <td>0</td>\n      <td>0</td>\n      <td>N</td>\n    </tr>\n    <tr>\n      <th>1</th>\n      <td>1</td>\n      <td>-122.347294</td>\n      <td>47.647172</td>\n      <td>2</td>\n      <td>52200</td>\n      <td>52200</td>\n      <td>2607959</td>\n      <td>Matched</td>\n      <td>Block</td>\n      <td>NaN</td>\n      <td>...</td>\n      <td>Wet</td>\n      <td>Dark - Street Lights On</td>\n      <td>NaN</td>\n      <td>6354039.0</td>\n      <td>NaN</td>\n      <td>11</td>\n      <td>From same direction - both going straight - bo...</td>\n      <td>0</td>\n      <td>0</td>\n      <td>N</td>\n    </tr>\n    <tr>\n      <th>2</th>\n      <td>1</td>\n      <td>-122.334540</td>\n      <td>47.607871</td>\n      <td>3</td>\n      <td>26700</td>\n      <td>26700</td>\n      <td>1482393</td>\n      <td>Matched</td>\n      <td>Block</td>\n      <td>NaN</td>\n      <td>...</td>\n      <td>Dry</td>\n      <td>Daylight</td>\n      <td>NaN</td>\n      <td>4323031.0</td>\n      <td>NaN</td>\n      <td>32</td>\n      <td>One parked--one moving</td>\n      <td>0</td>\n      <td>0</td>\n      <td>N</td>\n    </tr>\n    <tr>\n      <th>3</th>\n      <td>1</td>\n      <td>-122.334803</td>\n      <td>47.604803</td>\n      <td>4</td>\n      <td>1144</td>\n      <td>1144</td>\n      <td>3503937</td>\n      <td>Matched</td>\n      <td>Block</td>\n      <td>NaN</td>\n      <td>...</td>\n      <td>Dry</td>\n      <td>Daylight</td>\n      <td>NaN</td>\n      <td>NaN</td>\n      <td>NaN</td>\n      <td>23</td>\n      <td>From same direction - all others</td>\n      <td>0</td>\n      <td>0</td>\n      <td>N</td>\n    </tr>\n    <tr>\n      <th>4</th>\n      <td>2</td>\n      <td>-122.306426</td>\n      <td>47.545739</td>\n      <td>5</td>\n      <td>17700</td>\n      <td>17700</td>\n      <td>1807429</td>\n      <td>Matched</td>\n      <td>Intersection</td>\n      <td>34387.0</td>\n      <td>...</td>\n      <td>Wet</td>\n      <td>Daylight</td>\n      <td>NaN</td>\n      <td>4028032.0</td>\n      <td>NaN</td>\n      <td>10</td>\n      <td>Entering at angle</td>\n      <td>0</td>\n      <td>0</td>\n      <td>N</td>\n    </tr>\n  </tbody>\n</table>\n<p>5 rows × 38 columns</p>\n</div>"
     },
     "metadata": {},
     "execution_count": 2
    }
   ],
   "source": [
    "# Read the dataset\n",
    "df_collisions = pd.read_csv(\"https://s3.us.cloud-object-storage.appdomain.cloud/cf-courses-data/CognitiveClass/DP0701EN/version-2/Data-Collisions.csv\")\n",
    "\n",
    "df_collisions.head()"
   ]
  },
  {
   "cell_type": "code",
   "execution_count": 3,
   "metadata": {},
   "outputs": [
    {
     "output_type": "stream",
     "name": "stdout",
     "text": [
      "<class 'pandas.core.frame.DataFrame'>\nRangeIndex: 194673 entries, 0 to 194672\nData columns (total 38 columns):\n #   Column          Non-Null Count   Dtype  \n---  ------          --------------   -----  \n 0   SEVERITYCODE    194673 non-null  int64  \n 1   X               189339 non-null  float64\n 2   Y               189339 non-null  float64\n 3   OBJECTID        194673 non-null  int64  \n 4   INCKEY          194673 non-null  int64  \n 5   COLDETKEY       194673 non-null  int64  \n 6   REPORTNO        194673 non-null  object \n 7   STATUS          194673 non-null  object \n 8   ADDRTYPE        192747 non-null  object \n 9   INTKEY          65070 non-null   float64\n 10  LOCATION        191996 non-null  object \n 11  EXCEPTRSNCODE   84811 non-null   object \n 12  EXCEPTRSNDESC   5638 non-null    object \n 13  SEVERITYCODE.1  194673 non-null  int64  \n 14  SEVERITYDESC    194673 non-null  object \n 15  COLLISIONTYPE   189769 non-null  object \n 16  PERSONCOUNT     194673 non-null  int64  \n 17  PEDCOUNT        194673 non-null  int64  \n 18  PEDCYLCOUNT     194673 non-null  int64  \n 19  VEHCOUNT        194673 non-null  int64  \n 20  INCDATE         194673 non-null  object \n 21  INCDTTM         194673 non-null  object \n 22  JUNCTIONTYPE    188344 non-null  object \n 23  SDOT_COLCODE    194673 non-null  int64  \n 24  SDOT_COLDESC    194673 non-null  object \n 25  INATTENTIONIND  29805 non-null   object \n 26  UNDERINFL       189789 non-null  object \n 27  WEATHER         189592 non-null  object \n 28  ROADCOND        189661 non-null  object \n 29  LIGHTCOND       189503 non-null  object \n 30  PEDROWNOTGRNT   4667 non-null    object \n 31  SDOTCOLNUM      114936 non-null  float64\n 32  SPEEDING        9333 non-null    object \n 33  ST_COLCODE      194655 non-null  object \n 34  ST_COLDESC      189769 non-null  object \n 35  SEGLANEKEY      194673 non-null  int64  \n 36  CROSSWALKKEY    194673 non-null  int64  \n 37  HITPARKEDCAR    194673 non-null  object \ndtypes: float64(4), int64(12), object(22)\nmemory usage: 56.4+ MB\n"
     ]
    }
   ],
   "source": [
    "df_collisions.info()"
   ]
  },
  {
   "cell_type": "markdown",
   "metadata": {
    "tags": []
   },
   "source": [
    " ## Exploratory data analysis <a name=\"eda\"></a>"
   ]
  },
  {
   "cell_type": "markdown",
   "metadata": {},
   "source": [
    "In this dataset, we have a lot of columns that are only used for identification by the authorities, so we need to remove these useless columns to make our DataFrame smaller and use only the columns that have impact in our decisions.\n",
    "For more info about these columns, check the <b>Metadata.pdf</b>"
   ]
  },
  {
   "cell_type": "code",
   "execution_count": 4,
   "metadata": {
    "tags": []
   },
   "outputs": [
    {
     "output_type": "execute_result",
     "data": {
      "text/plain": [
       "   SEVERITYCODE      ADDRTYPE COLLISIONTYPE  PERSONCOUNT  \\\n",
       "0             2  Intersection        Angles            2   \n",
       "1             1         Block     Sideswipe            2   \n",
       "2             1         Block    Parked Car            4   \n",
       "3             1         Block         Other            3   \n",
       "4             2  Intersection        Angles            2   \n",
       "\n",
       "                  INCDATE                             JUNCTIONTYPE  \\\n",
       "0  2013/03/27 00:00:00+00   At Intersection (intersection related)   \n",
       "1  2006/12/20 00:00:00+00  Mid-Block (not related to intersection)   \n",
       "2  2004/11/18 00:00:00+00  Mid-Block (not related to intersection)   \n",
       "3  2013/03/29 00:00:00+00  Mid-Block (not related to intersection)   \n",
       "4  2004/01/28 00:00:00+00   At Intersection (intersection related)   \n",
       "\n",
       "  INATTENTIONIND UNDERINFL   WEATHER ROADCOND                LIGHTCOND  \\\n",
       "0            NaN         N  Overcast      Wet                 Daylight   \n",
       "1            NaN         0   Raining      Wet  Dark - Street Lights On   \n",
       "2            NaN         0  Overcast      Dry                 Daylight   \n",
       "3            NaN         N     Clear      Dry                 Daylight   \n",
       "4            NaN         0   Raining      Wet                 Daylight   \n",
       "\n",
       "  PEDROWNOTGRNT SPEEDING HITPARKEDCAR  \n",
       "0           NaN      NaN            N  \n",
       "1           NaN      NaN            N  \n",
       "2           NaN      NaN            N  \n",
       "3           NaN      NaN            N  \n",
       "4           NaN      NaN            N  "
      ],
      "text/html": "<div>\n<style scoped>\n    .dataframe tbody tr th:only-of-type {\n        vertical-align: middle;\n    }\n\n    .dataframe tbody tr th {\n        vertical-align: top;\n    }\n\n    .dataframe thead th {\n        text-align: right;\n    }\n</style>\n<table border=\"1\" class=\"dataframe\">\n  <thead>\n    <tr style=\"text-align: right;\">\n      <th></th>\n      <th>SEVERITYCODE</th>\n      <th>ADDRTYPE</th>\n      <th>COLLISIONTYPE</th>\n      <th>PERSONCOUNT</th>\n      <th>INCDATE</th>\n      <th>JUNCTIONTYPE</th>\n      <th>INATTENTIONIND</th>\n      <th>UNDERINFL</th>\n      <th>WEATHER</th>\n      <th>ROADCOND</th>\n      <th>LIGHTCOND</th>\n      <th>PEDROWNOTGRNT</th>\n      <th>SPEEDING</th>\n      <th>HITPARKEDCAR</th>\n    </tr>\n  </thead>\n  <tbody>\n    <tr>\n      <th>0</th>\n      <td>2</td>\n      <td>Intersection</td>\n      <td>Angles</td>\n      <td>2</td>\n      <td>2013/03/27 00:00:00+00</td>\n      <td>At Intersection (intersection related)</td>\n      <td>NaN</td>\n      <td>N</td>\n      <td>Overcast</td>\n      <td>Wet</td>\n      <td>Daylight</td>\n      <td>NaN</td>\n      <td>NaN</td>\n      <td>N</td>\n    </tr>\n    <tr>\n      <th>1</th>\n      <td>1</td>\n      <td>Block</td>\n      <td>Sideswipe</td>\n      <td>2</td>\n      <td>2006/12/20 00:00:00+00</td>\n      <td>Mid-Block (not related to intersection)</td>\n      <td>NaN</td>\n      <td>0</td>\n      <td>Raining</td>\n      <td>Wet</td>\n      <td>Dark - Street Lights On</td>\n      <td>NaN</td>\n      <td>NaN</td>\n      <td>N</td>\n    </tr>\n    <tr>\n      <th>2</th>\n      <td>1</td>\n      <td>Block</td>\n      <td>Parked Car</td>\n      <td>4</td>\n      <td>2004/11/18 00:00:00+00</td>\n      <td>Mid-Block (not related to intersection)</td>\n      <td>NaN</td>\n      <td>0</td>\n      <td>Overcast</td>\n      <td>Dry</td>\n      <td>Daylight</td>\n      <td>NaN</td>\n      <td>NaN</td>\n      <td>N</td>\n    </tr>\n    <tr>\n      <th>3</th>\n      <td>1</td>\n      <td>Block</td>\n      <td>Other</td>\n      <td>3</td>\n      <td>2013/03/29 00:00:00+00</td>\n      <td>Mid-Block (not related to intersection)</td>\n      <td>NaN</td>\n      <td>N</td>\n      <td>Clear</td>\n      <td>Dry</td>\n      <td>Daylight</td>\n      <td>NaN</td>\n      <td>NaN</td>\n      <td>N</td>\n    </tr>\n    <tr>\n      <th>4</th>\n      <td>2</td>\n      <td>Intersection</td>\n      <td>Angles</td>\n      <td>2</td>\n      <td>2004/01/28 00:00:00+00</td>\n      <td>At Intersection (intersection related)</td>\n      <td>NaN</td>\n      <td>0</td>\n      <td>Raining</td>\n      <td>Wet</td>\n      <td>Daylight</td>\n      <td>NaN</td>\n      <td>NaN</td>\n      <td>N</td>\n    </tr>\n  </tbody>\n</table>\n</div>"
     },
     "metadata": {},
     "execution_count": 4
    }
   ],
   "source": [
    "# Remove useless columns and columns that have data inserted by the state, since they are added post-incident.\n",
    "\n",
    "remove_columns = ['OBJECTID', 'X', 'Y', 'REPORTNO', 'STATUS', 'INCKEY', 'COLDETKEY', 'INTKEY', 'LOCATION', 'EXCEPTRSNCODE', 'EXCEPTRSNDESC', 'SEVERITYCODE.1', 'SEVERITYDESC', 'PEDCOUNT', 'PEDCYLCOUNT', 'VEHCOUNT', 'INCDTTM', 'SDOT_COLCODE', 'SDOT_COLDESC', 'SDOTCOLNUM', 'ST_COLCODE', 'ST_COLDESC', 'SEGLANEKEY', 'CROSSWALKKEY']\n",
    "\n",
    "df_collisions.drop(columns=remove_columns, inplace=True)\n",
    "\n",
    "df_collisions.head()"
   ]
  },
  {
   "cell_type": "markdown",
   "metadata": {},
   "source": [
    "Let's check the first five rows in the dataframe and check the type of each column"
   ]
  },
  {
   "cell_type": "code",
   "execution_count": 5,
   "metadata": {
    "tags": []
   },
   "outputs": [
    {
     "output_type": "stream",
     "name": "stdout",
     "text": [
      "<class 'pandas.core.frame.DataFrame'>\nRangeIndex: 194673 entries, 0 to 194672\nData columns (total 14 columns):\n #   Column          Non-Null Count   Dtype \n---  ------          --------------   ----- \n 0   SEVERITYCODE    194673 non-null  int64 \n 1   ADDRTYPE        192747 non-null  object\n 2   COLLISIONTYPE   189769 non-null  object\n 3   PERSONCOUNT     194673 non-null  int64 \n 4   INCDATE         194673 non-null  object\n 5   JUNCTIONTYPE    188344 non-null  object\n 6   INATTENTIONIND  29805 non-null   object\n 7   UNDERINFL       189789 non-null  object\n 8   WEATHER         189592 non-null  object\n 9   ROADCOND        189661 non-null  object\n 10  LIGHTCOND       189503 non-null  object\n 11  PEDROWNOTGRNT   4667 non-null    object\n 12  SPEEDING        9333 non-null    object\n 13  HITPARKEDCAR    194673 non-null  object\ndtypes: int64(2), object(12)\nmemory usage: 20.8+ MB\n"
     ]
    }
   ],
   "source": [
    "df_collisions.info()"
   ]
  },
  {
   "cell_type": "markdown",
   "metadata": {},
   "source": [
    "### Missing values"
   ]
  },
  {
   "cell_type": "markdown",
   "metadata": {},
   "source": [
    "Now, let's check our dataframe for missing values and how we'll handle then."
   ]
  },
  {
   "cell_type": "code",
   "execution_count": 6,
   "metadata": {},
   "outputs": [
    {
     "output_type": "execute_result",
     "data": {
      "text/plain": [
       "SEVERITYCODE           0\n",
       "ADDRTYPE            1926\n",
       "COLLISIONTYPE       4904\n",
       "PERSONCOUNT            0\n",
       "INCDATE                0\n",
       "JUNCTIONTYPE        6329\n",
       "INATTENTIONIND    164868\n",
       "UNDERINFL           4884\n",
       "WEATHER             5081\n",
       "ROADCOND            5012\n",
       "LIGHTCOND           5170\n",
       "PEDROWNOTGRNT     190006\n",
       "SPEEDING          185340\n",
       "HITPARKEDCAR           0\n",
       "dtype: int64"
      ]
     },
     "metadata": {},
     "execution_count": 6
    }
   ],
   "source": [
    "df_collisions.isnull().sum()"
   ]
  },
  {
   "cell_type": "markdown",
   "metadata": {},
   "source": [
    "We can use 3 methods to handle missing data:\n",
    " - replacing by column average;\n",
    " - replacing by column most recurring value; or\n",
    " - deleting entire row/column with missing data"
   ]
  },
  {
   "cell_type": "markdown",
   "metadata": {},
   "source": [
    "We can drop columns with 50% or more missing values"
   ]
  },
  {
   "cell_type": "code",
   "execution_count": 7,
   "metadata": {
    "tags": []
   },
   "outputs": [
    {
     "output_type": "execute_result",
     "data": {
      "text/plain": [
       "   SEVERITYCODE      ADDRTYPE COLLISIONTYPE  PERSONCOUNT  \\\n",
       "0             2  Intersection        Angles            2   \n",
       "1             1         Block     Sideswipe            2   \n",
       "2             1         Block    Parked Car            4   \n",
       "3             1         Block         Other            3   \n",
       "4             2  Intersection        Angles            2   \n",
       "\n",
       "                  INCDATE                             JUNCTIONTYPE UNDERINFL  \\\n",
       "0  2013/03/27 00:00:00+00   At Intersection (intersection related)         N   \n",
       "1  2006/12/20 00:00:00+00  Mid-Block (not related to intersection)         0   \n",
       "2  2004/11/18 00:00:00+00  Mid-Block (not related to intersection)         0   \n",
       "3  2013/03/29 00:00:00+00  Mid-Block (not related to intersection)         N   \n",
       "4  2004/01/28 00:00:00+00   At Intersection (intersection related)         0   \n",
       "\n",
       "    WEATHER ROADCOND                LIGHTCOND HITPARKEDCAR  \n",
       "0  Overcast      Wet                 Daylight            N  \n",
       "1   Raining      Wet  Dark - Street Lights On            N  \n",
       "2  Overcast      Dry                 Daylight            N  \n",
       "3     Clear      Dry                 Daylight            N  \n",
       "4   Raining      Wet                 Daylight            N  "
      ],
      "text/html": "<div>\n<style scoped>\n    .dataframe tbody tr th:only-of-type {\n        vertical-align: middle;\n    }\n\n    .dataframe tbody tr th {\n        vertical-align: top;\n    }\n\n    .dataframe thead th {\n        text-align: right;\n    }\n</style>\n<table border=\"1\" class=\"dataframe\">\n  <thead>\n    <tr style=\"text-align: right;\">\n      <th></th>\n      <th>SEVERITYCODE</th>\n      <th>ADDRTYPE</th>\n      <th>COLLISIONTYPE</th>\n      <th>PERSONCOUNT</th>\n      <th>INCDATE</th>\n      <th>JUNCTIONTYPE</th>\n      <th>UNDERINFL</th>\n      <th>WEATHER</th>\n      <th>ROADCOND</th>\n      <th>LIGHTCOND</th>\n      <th>HITPARKEDCAR</th>\n    </tr>\n  </thead>\n  <tbody>\n    <tr>\n      <th>0</th>\n      <td>2</td>\n      <td>Intersection</td>\n      <td>Angles</td>\n      <td>2</td>\n      <td>2013/03/27 00:00:00+00</td>\n      <td>At Intersection (intersection related)</td>\n      <td>N</td>\n      <td>Overcast</td>\n      <td>Wet</td>\n      <td>Daylight</td>\n      <td>N</td>\n    </tr>\n    <tr>\n      <th>1</th>\n      <td>1</td>\n      <td>Block</td>\n      <td>Sideswipe</td>\n      <td>2</td>\n      <td>2006/12/20 00:00:00+00</td>\n      <td>Mid-Block (not related to intersection)</td>\n      <td>0</td>\n      <td>Raining</td>\n      <td>Wet</td>\n      <td>Dark - Street Lights On</td>\n      <td>N</td>\n    </tr>\n    <tr>\n      <th>2</th>\n      <td>1</td>\n      <td>Block</td>\n      <td>Parked Car</td>\n      <td>4</td>\n      <td>2004/11/18 00:00:00+00</td>\n      <td>Mid-Block (not related to intersection)</td>\n      <td>0</td>\n      <td>Overcast</td>\n      <td>Dry</td>\n      <td>Daylight</td>\n      <td>N</td>\n    </tr>\n    <tr>\n      <th>3</th>\n      <td>1</td>\n      <td>Block</td>\n      <td>Other</td>\n      <td>3</td>\n      <td>2013/03/29 00:00:00+00</td>\n      <td>Mid-Block (not related to intersection)</td>\n      <td>N</td>\n      <td>Clear</td>\n      <td>Dry</td>\n      <td>Daylight</td>\n      <td>N</td>\n    </tr>\n    <tr>\n      <th>4</th>\n      <td>2</td>\n      <td>Intersection</td>\n      <td>Angles</td>\n      <td>2</td>\n      <td>2004/01/28 00:00:00+00</td>\n      <td>At Intersection (intersection related)</td>\n      <td>0</td>\n      <td>Raining</td>\n      <td>Wet</td>\n      <td>Daylight</td>\n      <td>N</td>\n    </tr>\n  </tbody>\n</table>\n</div>"
     },
     "metadata": {},
     "execution_count": 7
    }
   ],
   "source": [
    "df_collisions.dropna(axis=1, thresh=97336, inplace=True)\n",
    "\n",
    "df_collisions.head()"
   ]
  },
  {
   "cell_type": "code",
   "execution_count": 8,
   "metadata": {},
   "outputs": [
    {
     "output_type": "stream",
     "name": "stdout",
     "text": [
      "1    136485\n2     58188\nName: SEVERITYCODE, dtype: int64\n2    58188\n1    58188\nName: SEVERITYCODE, dtype: int64\n"
     ]
    }
   ],
   "source": [
    "# Our dataset is imbalanced, so lets grab samples and balance that using undersampling technique\n",
    "print(df_collisions.SEVERITYCODE.value_counts())\n",
    "\n",
    "# Lets shuffle our dataframe and return it enterily\n",
    "df_shuffled = df_collisions.sample(frac=1)\n",
    "\n",
    "# Now we create 2 dataframes, one containing rows with SEVERITYCODE == 2 and one containing the same number of rows but with SEVERITYCODE == 1\n",
    "df_severitycode_2 = df_shuffled.loc[df_shuffled['SEVERITYCODE'] == 2]\n",
    "df_severitycode_1 = df_shuffled.loc[df_shuffled['SEVERITYCODE'] == 1].sample(n=58188, random_state=42)\n",
    "\n",
    "# Now we can concat the two dataframes in one\n",
    "df_collisions = pd.concat([df_severitycode_1, df_severitycode_2])\n",
    "print(df_collisions.SEVERITYCODE.value_counts())"
   ]
  },
  {
   "cell_type": "markdown",
   "metadata": {},
   "source": [
    "<p>Since the remaing columns with missing values are categorical, we can fill those missing values with the recurrent value</p>"
   ]
  },
  {
   "cell_type": "code",
   "execution_count": 9,
   "metadata": {
    "tags": []
   },
   "outputs": [
    {
     "output_type": "execute_result",
     "data": {
      "text/plain": [
       "            ADDRTYPE COLLISIONTYPE UNDERINFL   WEATHER ROADCOND  \\\n",
       "133646         Block       Head On         N  Overcast      Dry   \n",
       "155396  Intersection    Rear Ended         N     Clear      Dry   \n",
       "51369          Block     Sideswipe         0     Clear      Dry   \n",
       "164532         Block    Parked Car         N   Unknown  Unknown   \n",
       "50520          Block     Sideswipe         0     Clear      Dry   \n",
       "\n",
       "                      LIGHTCOND  \n",
       "133646                      NaN  \n",
       "155396                 Daylight  \n",
       "51369   Dark - Street Lights On  \n",
       "164532                 Daylight  \n",
       "50520                  Daylight  "
      ],
      "text/html": "<div>\n<style scoped>\n    .dataframe tbody tr th:only-of-type {\n        vertical-align: middle;\n    }\n\n    .dataframe tbody tr th {\n        vertical-align: top;\n    }\n\n    .dataframe thead th {\n        text-align: right;\n    }\n</style>\n<table border=\"1\" class=\"dataframe\">\n  <thead>\n    <tr style=\"text-align: right;\">\n      <th></th>\n      <th>ADDRTYPE</th>\n      <th>COLLISIONTYPE</th>\n      <th>UNDERINFL</th>\n      <th>WEATHER</th>\n      <th>ROADCOND</th>\n      <th>LIGHTCOND</th>\n    </tr>\n  </thead>\n  <tbody>\n    <tr>\n      <th>133646</th>\n      <td>Block</td>\n      <td>Head On</td>\n      <td>N</td>\n      <td>Overcast</td>\n      <td>Dry</td>\n      <td>NaN</td>\n    </tr>\n    <tr>\n      <th>155396</th>\n      <td>Intersection</td>\n      <td>Rear Ended</td>\n      <td>N</td>\n      <td>Clear</td>\n      <td>Dry</td>\n      <td>Daylight</td>\n    </tr>\n    <tr>\n      <th>51369</th>\n      <td>Block</td>\n      <td>Sideswipe</td>\n      <td>0</td>\n      <td>Clear</td>\n      <td>Dry</td>\n      <td>Dark - Street Lights On</td>\n    </tr>\n    <tr>\n      <th>164532</th>\n      <td>Block</td>\n      <td>Parked Car</td>\n      <td>N</td>\n      <td>Unknown</td>\n      <td>Unknown</td>\n      <td>Daylight</td>\n    </tr>\n    <tr>\n      <th>50520</th>\n      <td>Block</td>\n      <td>Sideswipe</td>\n      <td>0</td>\n      <td>Clear</td>\n      <td>Dry</td>\n      <td>Daylight</td>\n    </tr>\n  </tbody>\n</table>\n</div>"
     },
     "metadata": {},
     "execution_count": 9
    }
   ],
   "source": [
    "cols_with_missing_values = ['ADDRTYPE', 'COLLISIONTYPE', 'UNDERINFL', 'WEATHER', 'ROADCOND', 'LIGHTCOND']\n",
    "\n",
    "df_collisions[cols_with_missing_values].head()"
   ]
  },
  {
   "cell_type": "markdown",
   "metadata": {},
   "source": [
    "We can see that UNDERINFL column has numeric and string values, so we need to handle it individually. We can replace 0 with 'No' and 1 with 'Yes' values."
   ]
  },
  {
   "cell_type": "code",
   "execution_count": 10,
   "metadata": {
    "tags": []
   },
   "outputs": [
    {
     "output_type": "execute_result",
     "data": {
      "text/plain": [
       "        SEVERITYCODE      ADDRTYPE COLLISIONTYPE  PERSONCOUNT  \\\n",
       "133646             1         Block       Head On            2   \n",
       "155396             1  Intersection    Rear Ended            0   \n",
       "51369              1         Block     Sideswipe            2   \n",
       "164532             1         Block    Parked Car            2   \n",
       "50520              1         Block     Sideswipe            2   \n",
       "\n",
       "                       INCDATE  \\\n",
       "133646  2014/08/26 00:00:00+00   \n",
       "155396  2016/05/02 00:00:00+00   \n",
       "51369   2007/12/10 00:00:00+00   \n",
       "164532  2017/04/15 00:00:00+00   \n",
       "50520   2007/09/26 00:00:00+00   \n",
       "\n",
       "                                             JUNCTIONTYPE  UNDERINFL  \\\n",
       "133646            Mid-Block (not related to intersection)        0.0   \n",
       "155396  At Intersection (but not related to intersection)        0.0   \n",
       "51369             Mid-Block (not related to intersection)        0.0   \n",
       "164532            Mid-Block (not related to intersection)        0.0   \n",
       "50520             Mid-Block (not related to intersection)        0.0   \n",
       "\n",
       "         WEATHER ROADCOND                LIGHTCOND  HITPARKEDCAR  \n",
       "133646  Overcast      Dry                      NaN             0  \n",
       "155396     Clear      Dry                 Daylight             0  \n",
       "51369      Clear      Dry  Dark - Street Lights On             0  \n",
       "164532   Unknown  Unknown                 Daylight             0  \n",
       "50520      Clear      Dry                 Daylight             0  "
      ],
      "text/html": "<div>\n<style scoped>\n    .dataframe tbody tr th:only-of-type {\n        vertical-align: middle;\n    }\n\n    .dataframe tbody tr th {\n        vertical-align: top;\n    }\n\n    .dataframe thead th {\n        text-align: right;\n    }\n</style>\n<table border=\"1\" class=\"dataframe\">\n  <thead>\n    <tr style=\"text-align: right;\">\n      <th></th>\n      <th>SEVERITYCODE</th>\n      <th>ADDRTYPE</th>\n      <th>COLLISIONTYPE</th>\n      <th>PERSONCOUNT</th>\n      <th>INCDATE</th>\n      <th>JUNCTIONTYPE</th>\n      <th>UNDERINFL</th>\n      <th>WEATHER</th>\n      <th>ROADCOND</th>\n      <th>LIGHTCOND</th>\n      <th>HITPARKEDCAR</th>\n    </tr>\n  </thead>\n  <tbody>\n    <tr>\n      <th>133646</th>\n      <td>1</td>\n      <td>Block</td>\n      <td>Head On</td>\n      <td>2</td>\n      <td>2014/08/26 00:00:00+00</td>\n      <td>Mid-Block (not related to intersection)</td>\n      <td>0.0</td>\n      <td>Overcast</td>\n      <td>Dry</td>\n      <td>NaN</td>\n      <td>0</td>\n    </tr>\n    <tr>\n      <th>155396</th>\n      <td>1</td>\n      <td>Intersection</td>\n      <td>Rear Ended</td>\n      <td>0</td>\n      <td>2016/05/02 00:00:00+00</td>\n      <td>At Intersection (but not related to intersection)</td>\n      <td>0.0</td>\n      <td>Clear</td>\n      <td>Dry</td>\n      <td>Daylight</td>\n      <td>0</td>\n    </tr>\n    <tr>\n      <th>51369</th>\n      <td>1</td>\n      <td>Block</td>\n      <td>Sideswipe</td>\n      <td>2</td>\n      <td>2007/12/10 00:00:00+00</td>\n      <td>Mid-Block (not related to intersection)</td>\n      <td>0.0</td>\n      <td>Clear</td>\n      <td>Dry</td>\n      <td>Dark - Street Lights On</td>\n      <td>0</td>\n    </tr>\n    <tr>\n      <th>164532</th>\n      <td>1</td>\n      <td>Block</td>\n      <td>Parked Car</td>\n      <td>2</td>\n      <td>2017/04/15 00:00:00+00</td>\n      <td>Mid-Block (not related to intersection)</td>\n      <td>0.0</td>\n      <td>Unknown</td>\n      <td>Unknown</td>\n      <td>Daylight</td>\n      <td>0</td>\n    </tr>\n    <tr>\n      <th>50520</th>\n      <td>1</td>\n      <td>Block</td>\n      <td>Sideswipe</td>\n      <td>2</td>\n      <td>2007/09/26 00:00:00+00</td>\n      <td>Mid-Block (not related to intersection)</td>\n      <td>0.0</td>\n      <td>Clear</td>\n      <td>Dry</td>\n      <td>Daylight</td>\n      <td>0</td>\n    </tr>\n  </tbody>\n</table>\n</div>"
     },
     "metadata": {},
     "execution_count": 10
    }
   ],
   "source": [
    "df_collisions['UNDERINFL'] = df_collisions['UNDERINFL'].map({'0': 0, '1': 1, 'N': 0, 'Y': 1})\n",
    "\n",
    "df_collisions['HITPARKEDCAR'] = df_collisions['HITPARKEDCAR'].map({'N': 0, 'Y': 1})\n",
    "df_collisions.head()"
   ]
  },
  {
   "cell_type": "markdown",
   "metadata": {},
   "source": [
    "Now lets fill those missing values with the recurrent value"
   ]
  },
  {
   "cell_type": "code",
   "execution_count": 11,
   "metadata": {
    "tags": []
   },
   "outputs": [
    {
     "output_type": "execute_result",
     "data": {
      "text/plain": [
       "        SEVERITYCODE      ADDRTYPE COLLISIONTYPE  PERSONCOUNT  \\\n",
       "133646             1         Block       Head On            2   \n",
       "155396             1  Intersection    Rear Ended            0   \n",
       "51369              1         Block     Sideswipe            2   \n",
       "164532             1         Block    Parked Car            2   \n",
       "50520              1         Block     Sideswipe            2   \n",
       "\n",
       "                       INCDATE  \\\n",
       "133646  2014/08/26 00:00:00+00   \n",
       "155396  2016/05/02 00:00:00+00   \n",
       "51369   2007/12/10 00:00:00+00   \n",
       "164532  2017/04/15 00:00:00+00   \n",
       "50520   2007/09/26 00:00:00+00   \n",
       "\n",
       "                                             JUNCTIONTYPE  UNDERINFL  \\\n",
       "133646            Mid-Block (not related to intersection)        0.0   \n",
       "155396  At Intersection (but not related to intersection)        0.0   \n",
       "51369             Mid-Block (not related to intersection)        0.0   \n",
       "164532            Mid-Block (not related to intersection)        0.0   \n",
       "50520             Mid-Block (not related to intersection)        0.0   \n",
       "\n",
       "         WEATHER ROADCOND                LIGHTCOND  HITPARKEDCAR  \n",
       "133646  Overcast      Dry                 Daylight             0  \n",
       "155396     Clear      Dry                 Daylight             0  \n",
       "51369      Clear      Dry  Dark - Street Lights On             0  \n",
       "164532   Unknown  Unknown                 Daylight             0  \n",
       "50520      Clear      Dry                 Daylight             0  "
      ],
      "text/html": "<div>\n<style scoped>\n    .dataframe tbody tr th:only-of-type {\n        vertical-align: middle;\n    }\n\n    .dataframe tbody tr th {\n        vertical-align: top;\n    }\n\n    .dataframe thead th {\n        text-align: right;\n    }\n</style>\n<table border=\"1\" class=\"dataframe\">\n  <thead>\n    <tr style=\"text-align: right;\">\n      <th></th>\n      <th>SEVERITYCODE</th>\n      <th>ADDRTYPE</th>\n      <th>COLLISIONTYPE</th>\n      <th>PERSONCOUNT</th>\n      <th>INCDATE</th>\n      <th>JUNCTIONTYPE</th>\n      <th>UNDERINFL</th>\n      <th>WEATHER</th>\n      <th>ROADCOND</th>\n      <th>LIGHTCOND</th>\n      <th>HITPARKEDCAR</th>\n    </tr>\n  </thead>\n  <tbody>\n    <tr>\n      <th>133646</th>\n      <td>1</td>\n      <td>Block</td>\n      <td>Head On</td>\n      <td>2</td>\n      <td>2014/08/26 00:00:00+00</td>\n      <td>Mid-Block (not related to intersection)</td>\n      <td>0.0</td>\n      <td>Overcast</td>\n      <td>Dry</td>\n      <td>Daylight</td>\n      <td>0</td>\n    </tr>\n    <tr>\n      <th>155396</th>\n      <td>1</td>\n      <td>Intersection</td>\n      <td>Rear Ended</td>\n      <td>0</td>\n      <td>2016/05/02 00:00:00+00</td>\n      <td>At Intersection (but not related to intersection)</td>\n      <td>0.0</td>\n      <td>Clear</td>\n      <td>Dry</td>\n      <td>Daylight</td>\n      <td>0</td>\n    </tr>\n    <tr>\n      <th>51369</th>\n      <td>1</td>\n      <td>Block</td>\n      <td>Sideswipe</td>\n      <td>2</td>\n      <td>2007/12/10 00:00:00+00</td>\n      <td>Mid-Block (not related to intersection)</td>\n      <td>0.0</td>\n      <td>Clear</td>\n      <td>Dry</td>\n      <td>Dark - Street Lights On</td>\n      <td>0</td>\n    </tr>\n    <tr>\n      <th>164532</th>\n      <td>1</td>\n      <td>Block</td>\n      <td>Parked Car</td>\n      <td>2</td>\n      <td>2017/04/15 00:00:00+00</td>\n      <td>Mid-Block (not related to intersection)</td>\n      <td>0.0</td>\n      <td>Unknown</td>\n      <td>Unknown</td>\n      <td>Daylight</td>\n      <td>0</td>\n    </tr>\n    <tr>\n      <th>50520</th>\n      <td>1</td>\n      <td>Block</td>\n      <td>Sideswipe</td>\n      <td>2</td>\n      <td>2007/09/26 00:00:00+00</td>\n      <td>Mid-Block (not related to intersection)</td>\n      <td>0.0</td>\n      <td>Clear</td>\n      <td>Dry</td>\n      <td>Daylight</td>\n      <td>0</td>\n    </tr>\n  </tbody>\n</table>\n</div>"
     },
     "metadata": {},
     "execution_count": 11
    }
   ],
   "source": [
    "df_collisions['ADDRTYPE'].fillna(df_collisions['ADDRTYPE'].mode()[0], inplace=True)\n",
    "df_collisions['COLLISIONTYPE'].fillna(df_collisions['COLLISIONTYPE'].mode()[0], inplace=True)\n",
    "df_collisions['JUNCTIONTYPE'].fillna(df_collisions['JUNCTIONTYPE'].mode()[0], inplace=True)\n",
    "df_collisions['UNDERINFL'].fillna(df_collisions['UNDERINFL'].mode()[0], inplace=True)\n",
    "df_collisions['WEATHER'].fillna(df_collisions['WEATHER'].mode()[0], inplace=True)\n",
    "df_collisions['ROADCOND'].fillna(df_collisions['ROADCOND'].mode()[0], inplace=True)\n",
    "df_collisions['LIGHTCOND'].fillna(df_collisions['LIGHTCOND'].mode()[0], inplace=True)\n",
    "\n",
    "df_collisions.head()"
   ]
  },
  {
   "source": [
    "@todo\n",
    "Lidar com a data e deltatime"
   ],
   "cell_type": "markdown",
   "metadata": {}
  },
  {
   "cell_type": "code",
   "execution_count": 12,
   "metadata": {},
   "outputs": [
    {
     "output_type": "execute_result",
     "data": {
      "text/plain": [
       "        SEVERITYCODE      ADDRTYPE COLLISIONTYPE  PERSONCOUNT  \\\n",
       "133646             1         Block       Head On            2   \n",
       "155396             1  Intersection    Rear Ended            0   \n",
       "51369              1         Block     Sideswipe            2   \n",
       "164532             1         Block    Parked Car            2   \n",
       "50520              1         Block     Sideswipe            2   \n",
       "\n",
       "                       INCDATE  \\\n",
       "133646  2014/08/26 00:00:00+00   \n",
       "155396  2016/05/02 00:00:00+00   \n",
       "51369   2007/12/10 00:00:00+00   \n",
       "164532  2017/04/15 00:00:00+00   \n",
       "50520   2007/09/26 00:00:00+00   \n",
       "\n",
       "                                             JUNCTIONTYPE  UNDERINFL  \\\n",
       "133646            Mid-Block (not related to intersection)        0.0   \n",
       "155396  At Intersection (but not related to intersection)        0.0   \n",
       "51369             Mid-Block (not related to intersection)        0.0   \n",
       "164532            Mid-Block (not related to intersection)        0.0   \n",
       "50520             Mid-Block (not related to intersection)        0.0   \n",
       "\n",
       "         WEATHER ROADCOND                LIGHTCOND  HITPARKEDCAR      MONTH  \n",
       "133646  Overcast      Dry                 Daylight             0     August  \n",
       "155396     Clear      Dry                 Daylight             0        May  \n",
       "51369      Clear      Dry  Dark - Street Lights On             0   December  \n",
       "164532   Unknown  Unknown                 Daylight             0      April  \n",
       "50520      Clear      Dry                 Daylight             0  September  "
      ],
      "text/html": "<div>\n<style scoped>\n    .dataframe tbody tr th:only-of-type {\n        vertical-align: middle;\n    }\n\n    .dataframe tbody tr th {\n        vertical-align: top;\n    }\n\n    .dataframe thead th {\n        text-align: right;\n    }\n</style>\n<table border=\"1\" class=\"dataframe\">\n  <thead>\n    <tr style=\"text-align: right;\">\n      <th></th>\n      <th>SEVERITYCODE</th>\n      <th>ADDRTYPE</th>\n      <th>COLLISIONTYPE</th>\n      <th>PERSONCOUNT</th>\n      <th>INCDATE</th>\n      <th>JUNCTIONTYPE</th>\n      <th>UNDERINFL</th>\n      <th>WEATHER</th>\n      <th>ROADCOND</th>\n      <th>LIGHTCOND</th>\n      <th>HITPARKEDCAR</th>\n      <th>MONTH</th>\n    </tr>\n  </thead>\n  <tbody>\n    <tr>\n      <th>133646</th>\n      <td>1</td>\n      <td>Block</td>\n      <td>Head On</td>\n      <td>2</td>\n      <td>2014/08/26 00:00:00+00</td>\n      <td>Mid-Block (not related to intersection)</td>\n      <td>0.0</td>\n      <td>Overcast</td>\n      <td>Dry</td>\n      <td>Daylight</td>\n      <td>0</td>\n      <td>August</td>\n    </tr>\n    <tr>\n      <th>155396</th>\n      <td>1</td>\n      <td>Intersection</td>\n      <td>Rear Ended</td>\n      <td>0</td>\n      <td>2016/05/02 00:00:00+00</td>\n      <td>At Intersection (but not related to intersection)</td>\n      <td>0.0</td>\n      <td>Clear</td>\n      <td>Dry</td>\n      <td>Daylight</td>\n      <td>0</td>\n      <td>May</td>\n    </tr>\n    <tr>\n      <th>51369</th>\n      <td>1</td>\n      <td>Block</td>\n      <td>Sideswipe</td>\n      <td>2</td>\n      <td>2007/12/10 00:00:00+00</td>\n      <td>Mid-Block (not related to intersection)</td>\n      <td>0.0</td>\n      <td>Clear</td>\n      <td>Dry</td>\n      <td>Dark - Street Lights On</td>\n      <td>0</td>\n      <td>December</td>\n    </tr>\n    <tr>\n      <th>164532</th>\n      <td>1</td>\n      <td>Block</td>\n      <td>Parked Car</td>\n      <td>2</td>\n      <td>2017/04/15 00:00:00+00</td>\n      <td>Mid-Block (not related to intersection)</td>\n      <td>0.0</td>\n      <td>Unknown</td>\n      <td>Unknown</td>\n      <td>Daylight</td>\n      <td>0</td>\n      <td>April</td>\n    </tr>\n    <tr>\n      <th>50520</th>\n      <td>1</td>\n      <td>Block</td>\n      <td>Sideswipe</td>\n      <td>2</td>\n      <td>2007/09/26 00:00:00+00</td>\n      <td>Mid-Block (not related to intersection)</td>\n      <td>0.0</td>\n      <td>Clear</td>\n      <td>Dry</td>\n      <td>Daylight</td>\n      <td>0</td>\n      <td>September</td>\n    </tr>\n  </tbody>\n</table>\n</div>"
     },
     "metadata": {},
     "execution_count": 12
    }
   ],
   "source": [
    "df_collisions['MONTH'] = df_collisions['INCDATE'].apply(lambda x: pd.Timestamp(x).month_name())\n",
    "df_collisions.head()"
   ]
  },
  {
   "cell_type": "code",
   "execution_count": 13,
   "metadata": {},
   "outputs": [
    {
     "output_type": "execute_result",
     "data": {
      "text/plain": [
       "        SEVERITYCODE  PERSONCOUNT                 INCDATE  UNDERINFL  \\\n",
       "133646             1            2  2014/08/26 00:00:00+00        0.0   \n",
       "155396             1            0  2016/05/02 00:00:00+00        0.0   \n",
       "51369              1            2  2007/12/10 00:00:00+00        0.0   \n",
       "164532             1            2  2017/04/15 00:00:00+00        0.0   \n",
       "50520              1            2  2007/09/26 00:00:00+00        0.0   \n",
       "\n",
       "        HITPARKEDCAR  ADDRTYPE_Block  ADDRTYPE_Intersection  \\\n",
       "133646             0               1                      0   \n",
       "155396             0               0                      1   \n",
       "51369              0               1                      0   \n",
       "164532             0               1                      0   \n",
       "50520              0               1                      0   \n",
       "\n",
       "        COLLISIONTYPE_Cycles  COLLISIONTYPE_Head On  COLLISIONTYPE_Left Turn  \\\n",
       "133646                     0                      1                        0   \n",
       "155396                     0                      0                        0   \n",
       "51369                      0                      0                        0   \n",
       "164532                     0                      0                        0   \n",
       "50520                      0                      0                        0   \n",
       "\n",
       "        ...  MONTH_December  MONTH_February  MONTH_January  MONTH_July  \\\n",
       "133646  ...               0               0              0           0   \n",
       "155396  ...               0               0              0           0   \n",
       "51369   ...               1               0              0           0   \n",
       "164532  ...               0               0              0           0   \n",
       "50520   ...               0               0              0           0   \n",
       "\n",
       "        MONTH_June  MONTH_March  MONTH_May  MONTH_November  MONTH_October  \\\n",
       "133646           0            0          0               0              0   \n",
       "155396           0            0          1               0              0   \n",
       "51369            0            0          0               0              0   \n",
       "164532           0            0          0               0              0   \n",
       "50520            0            0          0               0              0   \n",
       "\n",
       "        MONTH_September  \n",
       "133646                0  \n",
       "155396                0  \n",
       "51369                 0  \n",
       "164532                0  \n",
       "50520                 1  \n",
       "\n",
       "[5 rows x 59 columns]"
      ],
      "text/html": "<div>\n<style scoped>\n    .dataframe tbody tr th:only-of-type {\n        vertical-align: middle;\n    }\n\n    .dataframe tbody tr th {\n        vertical-align: top;\n    }\n\n    .dataframe thead th {\n        text-align: right;\n    }\n</style>\n<table border=\"1\" class=\"dataframe\">\n  <thead>\n    <tr style=\"text-align: right;\">\n      <th></th>\n      <th>SEVERITYCODE</th>\n      <th>PERSONCOUNT</th>\n      <th>INCDATE</th>\n      <th>UNDERINFL</th>\n      <th>HITPARKEDCAR</th>\n      <th>ADDRTYPE_Block</th>\n      <th>ADDRTYPE_Intersection</th>\n      <th>COLLISIONTYPE_Cycles</th>\n      <th>COLLISIONTYPE_Head On</th>\n      <th>COLLISIONTYPE_Left Turn</th>\n      <th>...</th>\n      <th>MONTH_December</th>\n      <th>MONTH_February</th>\n      <th>MONTH_January</th>\n      <th>MONTH_July</th>\n      <th>MONTH_June</th>\n      <th>MONTH_March</th>\n      <th>MONTH_May</th>\n      <th>MONTH_November</th>\n      <th>MONTH_October</th>\n      <th>MONTH_September</th>\n    </tr>\n  </thead>\n  <tbody>\n    <tr>\n      <th>133646</th>\n      <td>1</td>\n      <td>2</td>\n      <td>2014/08/26 00:00:00+00</td>\n      <td>0.0</td>\n      <td>0</td>\n      <td>1</td>\n      <td>0</td>\n      <td>0</td>\n      <td>1</td>\n      <td>0</td>\n      <td>...</td>\n      <td>0</td>\n      <td>0</td>\n      <td>0</td>\n      <td>0</td>\n      <td>0</td>\n      <td>0</td>\n      <td>0</td>\n      <td>0</td>\n      <td>0</td>\n      <td>0</td>\n    </tr>\n    <tr>\n      <th>155396</th>\n      <td>1</td>\n      <td>0</td>\n      <td>2016/05/02 00:00:00+00</td>\n      <td>0.0</td>\n      <td>0</td>\n      <td>0</td>\n      <td>1</td>\n      <td>0</td>\n      <td>0</td>\n      <td>0</td>\n      <td>...</td>\n      <td>0</td>\n      <td>0</td>\n      <td>0</td>\n      <td>0</td>\n      <td>0</td>\n      <td>0</td>\n      <td>1</td>\n      <td>0</td>\n      <td>0</td>\n      <td>0</td>\n    </tr>\n    <tr>\n      <th>51369</th>\n      <td>1</td>\n      <td>2</td>\n      <td>2007/12/10 00:00:00+00</td>\n      <td>0.0</td>\n      <td>0</td>\n      <td>1</td>\n      <td>0</td>\n      <td>0</td>\n      <td>0</td>\n      <td>0</td>\n      <td>...</td>\n      <td>1</td>\n      <td>0</td>\n      <td>0</td>\n      <td>0</td>\n      <td>0</td>\n      <td>0</td>\n      <td>0</td>\n      <td>0</td>\n      <td>0</td>\n      <td>0</td>\n    </tr>\n    <tr>\n      <th>164532</th>\n      <td>1</td>\n      <td>2</td>\n      <td>2017/04/15 00:00:00+00</td>\n      <td>0.0</td>\n      <td>0</td>\n      <td>1</td>\n      <td>0</td>\n      <td>0</td>\n      <td>0</td>\n      <td>0</td>\n      <td>...</td>\n      <td>0</td>\n      <td>0</td>\n      <td>0</td>\n      <td>0</td>\n      <td>0</td>\n      <td>0</td>\n      <td>0</td>\n      <td>0</td>\n      <td>0</td>\n      <td>0</td>\n    </tr>\n    <tr>\n      <th>50520</th>\n      <td>1</td>\n      <td>2</td>\n      <td>2007/09/26 00:00:00+00</td>\n      <td>0.0</td>\n      <td>0</td>\n      <td>1</td>\n      <td>0</td>\n      <td>0</td>\n      <td>0</td>\n      <td>0</td>\n      <td>...</td>\n      <td>0</td>\n      <td>0</td>\n      <td>0</td>\n      <td>0</td>\n      <td>0</td>\n      <td>0</td>\n      <td>0</td>\n      <td>0</td>\n      <td>0</td>\n      <td>1</td>\n    </tr>\n  </tbody>\n</table>\n<p>5 rows × 59 columns</p>\n</div>"
     },
     "metadata": {},
     "execution_count": 13
    }
   ],
   "source": [
    "categorical_columns = ['ADDRTYPE', 'COLLISIONTYPE', 'JUNCTIONTYPE', 'WEATHER', 'ROADCOND', 'LIGHTCOND', 'MONTH']\n",
    "\n",
    "df_collisions = pd.get_dummies(df_collisions, columns=categorical_columns, drop_first=True)\n",
    "df_collisions.head()"
   ]
  },
  {
   "cell_type": "code",
   "execution_count": 14,
   "metadata": {},
   "outputs": [],
   "source": [
    "df_collisions.drop(['INCDATE'], axis=1, inplace=True)"
   ]
  },
  {
   "source": [
    "Usar GridSearchCV e Pipeline para checar quais os melhores parametros para o SelectKBest, KNN, Random Forest, e LinearSVC. Ao final, escolher qual obteve melhor resultado."
   ],
   "cell_type": "markdown",
   "metadata": {}
  },
  {
   "cell_type": "code",
   "execution_count": 15,
   "metadata": {},
   "outputs": [],
   "source": [
    "from sklearn.feature_selection import SelectKBest, chi2\n",
    "from sklearn.model_selection import train_test_split\n",
    "from sklearn.model_selection import GridSearchCV\n",
    "from sklearn.pipeline import Pipeline\n",
    "from sklearn.neighbors import KNeighborsClassifier\n",
    "from sklearn.svm import LinearSVC\n",
    "from sklearn.ensemble import RandomForestClassifier"
   ]
  },
  {
   "cell_type": "code",
   "execution_count": 16,
   "metadata": {},
   "outputs": [
    {
     "output_type": "stream",
     "name": "stdout",
     "text": [
      "Number of features with strong evidence that the correlation is significant: 31\nNumber of features with moderate evidence that the correlation is significant: 7\nNumber of features with weak evidence that the correlation is significant: 3\nNumber of features with no evidence that the correlation is significant: 16\n"
     ]
    }
   ],
   "source": [
    "k_best = SelectKBest(chi2, k='all')\n",
    "k_best.fit(df_collisions.drop(['SEVERITYCODE'], axis=1), df_collisions['SEVERITYCODE'])\n",
    "\n",
    "#print(k_best.scores_)\n",
    "#print(k_best.pvalues_)\n",
    "#for pval in k_best.pvalues_:\n",
    "#print(df_collisions.drop(['SEVERITYCODE'], axis=1).columns)\n",
    "\n",
    "features_index_strong_evidence_corr = []\n",
    "features_index_moderate_evidence_corr = []\n",
    "features_index_weak_evidence_corr = []\n",
    "features_index_no_evidence_corr = []\n",
    "\n",
    "for i in range(len(k_best.pvalues_)):\n",
    "    if k_best.pvalues_[i] < 0.001:\n",
    "        features_index_strong_evidence_corr.append(i)\n",
    "    elif k_best.pvalues_[i] < 0.05:\n",
    "        features_index_moderate_evidence_corr.append(i)\n",
    "    elif k_best.pvalues_[i] < 0.1:\n",
    "        features_index_weak_evidence_corr.append(i)\n",
    "    else:\n",
    "        features_index_no_evidence_corr.append(i)\n",
    "\n",
    "print(\"Number of features with strong evidence that the correlation is significant: \" + str(len(features_index_strong_evidence_corr)))\n",
    "print(\"Number of features with moderate evidence that the correlation is significant: \" + str(len(features_index_moderate_evidence_corr)))\n",
    "print(\"Number of features with weak evidence that the correlation is significant: \" + str(len(features_index_weak_evidence_corr)))\n",
    "print(\"Number of features with no evidence that the correlation is significant: \" + str(len(features_index_no_evidence_corr)))\n"
   ]
  },
  {
   "cell_type": "code",
   "execution_count": null,
   "metadata": {},
   "outputs": [],
   "source": []
  },
  {
   "cell_type": "code",
   "execution_count": 17,
   "metadata": {},
   "outputs": [
    {
     "output_type": "stream",
     "name": "stdout",
     "text": [
      "[   11.016         19.96339228    20.0075643     23.23395649\n    40.96589842    43.68032787    63.61359223    87.64470588\n   113.10545455   114.98962963   141.17162501   159.85121714\n   167.68476204   178.00680831   218.0147108    314.74176385\n   390.62779267  1306.79294742  1722.99526247  1867.39883212\n  1907.15362704  2011.22122379  3097.55810932  3264.95939946\n  3407.51874247  3844.16558711  3951.04652087  3976.70753065\n  4134.00058824  5120.03148089 12493.60922908]\n"
     ]
    }
   ],
   "source": [
    "# This line changes the way numpy displays number for us. If False (default) it will display numbers as scientific notation, wich is hard to read and interpret. (https://numpy.org/doc/stable/reference/generated/numpy.set_printoptions.html)\n",
    "np.set_printoptions(suppress=True)\n",
    "\n",
    "print(np.sort(k_best.scores_[features_index_strong_evidence_corr]))"
   ]
  },
  {
   "cell_type": "code",
   "execution_count": 18,
   "metadata": {},
   "outputs": [
    {
     "output_type": "execute_result",
     "data": {
      "text/plain": [
       "SelectKBest(k=31, score_func=<function chi2 at 0x7f6f6ed1fa60>)"
      ]
     },
     "metadata": {},
     "execution_count": 18
    }
   ],
   "source": [
    "k_best_test = SelectKBest(chi2, k=len(features_index_strong_evidence_corr))\n",
    "k_best_test.fit(df_collisions.drop(['SEVERITYCODE'], axis=1), df_collisions['SEVERITYCODE'])"
   ]
  },
  {
   "cell_type": "code",
   "execution_count": 19,
   "metadata": {},
   "outputs": [
    {
     "output_type": "stream",
     "name": "stdout",
     "text": [
      "Index(['PERSONCOUNT', 'UNDERINFL', 'HITPARKEDCAR', 'ADDRTYPE_Block',\n       'ADDRTYPE_Intersection', 'COLLISIONTYPE_Cycles',\n       'COLLISIONTYPE_Head On', 'COLLISIONTYPE_Left Turn',\n       'COLLISIONTYPE_Other', 'COLLISIONTYPE_Parked Car',\n       'COLLISIONTYPE_Pedestrian', 'COLLISIONTYPE_Rear Ended',\n       'COLLISIONTYPE_Right Turn', 'COLLISIONTYPE_Sideswipe',\n       'JUNCTIONTYPE_At Intersection (intersection related)',\n       'JUNCTIONTYPE_Mid-Block (but intersection related)',\n       'JUNCTIONTYPE_Mid-Block (not related to intersection)', 'WEATHER_Clear',\n       'WEATHER_Other', 'WEATHER_Overcast', 'WEATHER_Raining',\n       'WEATHER_Snowing', 'WEATHER_Unknown', 'ROADCOND_Ice',\n       'ROADCOND_Snow/Slush', 'ROADCOND_Unknown', 'ROADCOND_Wet',\n       'LIGHTCOND_Daylight', 'LIGHTCOND_Unknown', 'MONTH_December',\n       'MONTH_February'],\n      dtype='object')\nIndex(['PERSONCOUNT', 'UNDERINFL', 'HITPARKEDCAR', 'ADDRTYPE_Block',\n       'ADDRTYPE_Intersection', 'COLLISIONTYPE_Cycles',\n       'COLLISIONTYPE_Head On', 'COLLISIONTYPE_Left Turn',\n       'COLLISIONTYPE_Other', 'COLLISIONTYPE_Parked Car',\n       'COLLISIONTYPE_Pedestrian', 'COLLISIONTYPE_Rear Ended',\n       'COLLISIONTYPE_Right Turn', 'COLLISIONTYPE_Sideswipe',\n       'JUNCTIONTYPE_At Intersection (intersection related)',\n       'JUNCTIONTYPE_Mid-Block (but intersection related)',\n       'JUNCTIONTYPE_Mid-Block (not related to intersection)', 'WEATHER_Clear',\n       'WEATHER_Other', 'WEATHER_Overcast', 'WEATHER_Raining',\n       'WEATHER_Snowing', 'WEATHER_Unknown', 'ROADCOND_Ice',\n       'ROADCOND_Snow/Slush', 'ROADCOND_Unknown', 'ROADCOND_Wet',\n       'LIGHTCOND_Daylight', 'LIGHTCOND_Unknown', 'MONTH_December',\n       'MONTH_February'],\n      dtype='object')\n[ True  True  True  True  True  True  True  True  True  True  True  True\n  True  True  True  True  True  True  True  True  True  True  True  True\n  True  True  True  True  True  True  True]\n"
     ]
    }
   ],
   "source": [
    "# Testar se o SelectKBest vai pegar as features com evidência mais forte da correlação ou se seria outra coisa.\n",
    "\n",
    "print(df_collisions.drop(['SEVERITYCODE'], axis=1).columns[features_index_strong_evidence_corr])\n",
    "print(df_collisions.drop(['SEVERITYCODE'], axis=1).columns[k_best_test.get_support()])\n",
    "print(df_collisions.drop(['SEVERITYCODE'], axis=1).columns[features_index_strong_evidence_corr] == df_collisions.drop(['SEVERITYCODE'], axis=1).columns[k_best_test.get_support()])"
   ]
  },
  {
   "cell_type": "code",
   "execution_count": 20,
   "metadata": {},
   "outputs": [],
   "source": [
    "# Testar com: 14, 22 e todas as 33 features com uma evidência forte de que a correlação é significante\n",
    "# Fazer um teste sem as datas (já que eu não sei como lidar com tempo) e conferir as correlações."
   ]
  },
  {
   "cell_type": "code",
   "execution_count": null,
   "metadata": {},
   "outputs": [],
   "source": []
  },
  {
   "cell_type": "code",
   "execution_count": 21,
   "metadata": {},
   "outputs": [
    {
     "output_type": "execute_result",
     "data": {
      "text/plain": [
       "GridSearchCV(estimator=Pipeline(steps=[('k_best',\n",
       "                                        SelectKBest(score_func=<function chi2 at 0x7f6f6ed1fa60>)),\n",
       "                                       ('knn', KNeighborsClassifier())]),\n",
       "             n_jobs=-1,\n",
       "             param_grid={'k_best__k': [14, 22, 33],\n",
       "                         'knn__n_neighbors': range(1, 11),\n",
       "                         'knn__weights': ['uniform', 'distance']})"
      ]
     },
     "metadata": {},
     "execution_count": 21
    }
   ],
   "source": [
    "k_best = SelectKBest(chi2)\n",
    "\n",
    "knn_pipeline = Pipeline([\n",
    "    ('k_best', k_best),\n",
    "    ('knn', KNeighborsClassifier())\n",
    "])\n",
    "\n",
    "grid_knn = GridSearchCV(knn_pipeline, {\n",
    "    'k_best__k': [14, 22, 33],\n",
    "    'knn__n_neighbors': range(1, 11),\n",
    "    'knn__weights': ['uniform', 'distance']\n",
    "}, n_jobs=-1)\n",
    "\n",
    "grid_knn.fit(df_collisions.drop(['SEVERITYCODE'], axis=1), df_collisions['SEVERITYCODE'])"
   ]
  },
  {
   "cell_type": "code",
   "execution_count": 22,
   "metadata": {},
   "outputs": [
    {
     "output_type": "execute_result",
     "data": {
      "text/plain": [
       "GridSearchCV(estimator=Pipeline(steps=[('k_best',\n",
       "                                        SelectKBest(score_func=<function chi2 at 0x7f6f6ed1fa60>)),\n",
       "                                       ('linear_svc', LinearSVC())]),\n",
       "             n_jobs=-1,\n",
       "             param_grid={'k_best__k': [14, 22, 33],\n",
       "                         'linear_svc__C': [1, 10, 100, 1000],\n",
       "                         'linear_svc__penalty': ['l1', 'l2']})"
      ]
     },
     "metadata": {},
     "execution_count": 22
    }
   ],
   "source": [
    "k_best = SelectKBest(chi2)\n",
    "\n",
    "linear_svc_pipeline = Pipeline([\n",
    "    ('k_best', k_best),\n",
    "    ('linear_svc', LinearSVC())\n",
    "])\n",
    "\n",
    "grid_linear_svc = GridSearchCV(linear_svc_pipeline, {\n",
    "    'k_best__k': [14, 22, 33],\n",
    "    'linear_svc__C': [1, 10, 100, 1000],\n",
    "    'linear_svc__penalty': ['l1', 'l2']\n",
    "}, n_jobs=-1)\n",
    "\n",
    "grid_linear_svc.fit(df_collisions.drop(['SEVERITYCODE'], axis=1), df_collisions['SEVERITYCODE'])"
   ]
  },
  {
   "cell_type": "code",
   "execution_count": 23,
   "metadata": {},
   "outputs": [
    {
     "output_type": "execute_result",
     "data": {
      "text/plain": [
       "GridSearchCV(estimator=Pipeline(steps=[('k_best',\n",
       "                                        SelectKBest(score_func=<function chi2 at 0x7f6f6ed1fa60>)),\n",
       "                                       ('rfc', RandomForestClassifier())]),\n",
       "             n_jobs=-1,\n",
       "             param_grid={'k_best__k': [14, 22, 33],\n",
       "                         'rfc__class_weight': ['balanced',\n",
       "                                               'balanced_subsample'],\n",
       "                         'rfc__criterion': ['gini', 'entropy']})"
      ]
     },
     "metadata": {},
     "execution_count": 23
    }
   ],
   "source": [
    "k_best = SelectKBest(chi2)\n",
    "\n",
    "rand_forest_pipeline = Pipeline([\n",
    "    ('k_best', k_best),\n",
    "    ('rfc', RandomForestClassifier())\n",
    "])\n",
    "\n",
    "grid_rfc = GridSearchCV(rand_forest_pipeline, {\n",
    "    'k_best__k': [14, 22, 33],\n",
    "    'rfc__criterion': ['gini', 'entropy'],\n",
    "    'rfc__class_weight': ['balanced', 'balanced_subsample']\n",
    "}, n_jobs=-1)\n",
    "\n",
    "grid_rfc.fit(df_collisions.drop(['SEVERITYCODE'], axis=1), df_collisions['SEVERITYCODE'])"
   ]
  },
  {
   "cell_type": "code",
   "execution_count": 24,
   "metadata": {},
   "outputs": [
    {
     "output_type": "stream",
     "name": "stdout",
     "text": [
      "KNN GridSearchCV best params: {'k_best__k': 33, 'knn__n_neighbors': 9, 'knn__weights': 'uniform'}\nLinearSVC GridSearchCV best params: {'k_best__k': 33, 'linear_svc__C': 10, 'linear_svc__penalty': 'l2'}\nRandom Forest GridSearchCV best params: {'k_best__k': 14, 'rfc__class_weight': 'balanced_subsample', 'rfc__criterion': 'entropy'}\n"
     ]
    }
   ],
   "source": [
    "print(\"KNN GridSearchCV best params: \" + str(grid_knn.best_params_))\n",
    "print(\"LinearSVC GridSearchCV best params: \" + str(grid_linear_svc.best_params_))\n",
    "print(\"Random Forest GridSearchCV best params: \" + str(grid_rfc.best_params_))"
   ]
  },
  {
   "cell_type": "code",
   "execution_count": 27,
   "metadata": {},
   "outputs": [
    {
     "output_type": "stream",
     "name": "stdout",
     "text": [
      "KNN GridSearchCV score: 0.6327163676359386\n",
      "LinearSVC GridSearchCV score: 0.6979188148759194\n",
      "Random Forest GridSearchCV score: 0.7032893380078367\n"
     ]
    }
   ],
   "source": [
    "X = df_collisions.drop(['SEVERITYCODE'], axis=1)\n",
    "y = df_collisions['SEVERITYCODE']\n",
    "\n",
    "print(\"KNN GridSearchCV score: \" + str(grid_knn.score(X, y)))\n",
    "print(\"LinearSVC GridSearchCV score: \" + str(grid_linear_svc.score(X, y)))\n",
    "print(\"Random Forest GridSearchCV score: \" + str(grid_rfc.score(X, y)))"
   ]
  },
  {
   "cell_type": "code",
   "execution_count": null,
   "metadata": {},
   "outputs": [],
   "source": []
  }
 ],
 "metadata": {
  "kernelspec": {
   "display_name": "Python 3",
   "language": "python",
   "name": "python3"
  },
  "language_info": {
   "codemirror_mode": {
    "name": "ipython",
    "version": 3
   },
   "file_extension": ".py",
   "mimetype": "text/x-python",
   "name": "python",
   "nbconvert_exporter": "python",
   "pygments_lexer": "ipython3",
   "version": "3.9.1-final"
  }
 },
 "nbformat": 4,
 "nbformat_minor": 4
}